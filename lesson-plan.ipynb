{
 "cells": [
  {
   "cell_type": "markdown",
   "metadata": {},
   "source": [
    "### Questions\n",
    "* Update Many...How do we get this to work?\n",
    "    * This is something I don't know well...just being honest\n",
    "* How to take a dataframe and store it as a database\n",
    "* How to store images in a mongodb"
   ]
  },
  {
   "cell_type": "markdown",
   "metadata": {},
   "source": [
    "### Objectives\n",
    "YWBAT\n",
    "* write data into a mongo db\n",
    "* read data from a a mongo db"
   ]
  },
  {
   "cell_type": "markdown",
   "metadata": {},
   "source": [
    "## Steps to run Mongo and PyMongo\n",
    "* Step 1: Run `mongod` in your terminal\n",
    "* Step 2: Connect using pymongo Client specifying host and port\n",
    "* Step 3: Have fun! Or don't...I don't know..."
   ]
  },
  {
   "cell_type": "markdown",
   "metadata": {},
   "source": [
    "### Outline\n",
    "* Questions\n",
    "* Objectives\n",
    "* "
   ]
  },
  {
   "cell_type": "code",
   "execution_count": 85,
   "metadata": {},
   "outputs": [],
   "source": [
    "import json\n",
    "import requests\n",
    "\n",
    "import pandas as pd\n",
    "import numpy as np\n",
    "from PIL import Image, ImageShow\n",
    "from io import StringIO, BytesIO\n",
    "\n",
    "from bs4 import BeautifulSoup\n",
    "\n",
    "from pymongo import MongoClient\n",
    "\n",
    "from sklearn.datasets import load_boston\n",
    "\n",
    "import matplotlib.pyplot as plt"
   ]
  },
  {
   "cell_type": "markdown",
   "metadata": {},
   "source": [
    "| SQL | Mongo |\n",
    "| ----| ------| \n",
    "| Database | Database |\n",
    "| Table    | Collection |\n",
    "| Records/Rows | Document |"
   ]
  },
  {
   "cell_type": "code",
   "execution_count": 3,
   "metadata": {},
   "outputs": [],
   "source": [
    "# Let's create a database and a collection and a document"
   ]
  },
  {
   "cell_type": "code",
   "execution_count": 6,
   "metadata": {},
   "outputs": [],
   "source": [
    "client = MongoClient(host=\"localhost\", port=27017)"
   ]
  },
  {
   "cell_type": "code",
   "execution_count": 9,
   "metadata": {},
   "outputs": [
    {
     "data": {
      "text/plain": [
       "['admin', 'config', 'local', 'marchmadness', 'music_tweets', 'mydb', 'tweets']"
      ]
     },
     "execution_count": 9,
     "metadata": {},
     "output_type": "execute_result"
    }
   ],
   "source": [
    "client.list_database_names() # show dbs in mongo"
   ]
  },
  {
   "cell_type": "code",
   "execution_count": 10,
   "metadata": {},
   "outputs": [],
   "source": [
    "new_db = client.[\"new_db\"]"
   ]
  },
  {
   "cell_type": "code",
   "execution_count": 16,
   "metadata": {},
   "outputs": [
    {
     "data": {
      "text/plain": [
       "['admin',\n",
       " 'config',\n",
       " 'local',\n",
       " 'marchmadness',\n",
       " 'music_tweets',\n",
       " 'mydb',\n",
       " 'new_db',\n",
       " 'tweets']"
      ]
     },
     "execution_count": 16,
     "metadata": {},
     "output_type": "execute_result"
    }
   ],
   "source": [
    "client.list_database_names()"
   ]
  },
  {
   "cell_type": "code",
   "execution_count": 12,
   "metadata": {},
   "outputs": [],
   "source": [
    "students_collection = new_db[\"students\"]"
   ]
  },
  {
   "cell_type": "code",
   "execution_count": 14,
   "metadata": {},
   "outputs": [
    {
     "data": {
      "text/plain": [
       "{'name': 'Savannah',\n",
       " 'age': 27,\n",
       " 'state': 'DC',\n",
       " 'favorite_color': 'teal',\n",
       " 'favorite_scientist': 'stephen hawking'}"
      ]
     },
     "execution_count": 14,
     "metadata": {},
     "output_type": "execute_result"
    }
   ],
   "source": [
    "keys = [\"name\", \"age\", \"state\", \"favorite_color\", \"favorite_scientist\"]\n",
    "\n",
    "savannah = dict(zip(keys, ['Savannah', 27, 'DC', 'teal', 'stephen hawking']))\n",
    "savannah"
   ]
  },
  {
   "cell_type": "code",
   "execution_count": 15,
   "metadata": {},
   "outputs": [
    {
     "data": {
      "text/plain": [
       "<pymongo.results.InsertOneResult at 0x1a1b7af3c8>"
      ]
     },
     "execution_count": 15,
     "metadata": {},
     "output_type": "execute_result"
    }
   ],
   "source": [
    "# let's insert this dictionary into my new collection\n",
    "students_collection.insert_one(savannah)"
   ]
  },
  {
   "cell_type": "code",
   "execution_count": 17,
   "metadata": {},
   "outputs": [
    {
     "data": {
      "text/plain": [
       "<pymongo.results.InsertOneResult at 0x1a1b7af488>"
      ]
     },
     "execution_count": 17,
     "metadata": {},
     "output_type": "execute_result"
    }
   ],
   "source": [
    "matthew = dict(zip(keys, ['Matthew', 37, 'VA', 'red', 'alan turing']))\n",
    "students_collection.insert_one(matthew)"
   ]
  },
  {
   "cell_type": "code",
   "execution_count": 18,
   "metadata": {},
   "outputs": [
    {
     "data": {
      "text/plain": [
       "<pymongo.results.InsertOneResult at 0x1a1b39d488>"
      ]
     },
     "execution_count": 18,
     "metadata": {},
     "output_type": "execute_result"
    }
   ],
   "source": [
    "dennis = dict(zip(keys, ['Dennis', 37, 'WV', 'green', 'nikolai tesla']))\n",
    "students_collection.insert_one(dennis)"
   ]
  },
  {
   "cell_type": "code",
   "execution_count": 19,
   "metadata": {},
   "outputs": [
    {
     "data": {
      "text/plain": [
       "<pymongo.results.InsertOneResult at 0x1a1b7a2bc8>"
      ]
     },
     "execution_count": 19,
     "metadata": {},
     "output_type": "execute_result"
    }
   ],
   "source": [
    "levi = dict(zip(keys, ['Levi', 30, 'NY', 'aqua', 'thomas edison']))\n",
    "students_collection.insert_one(levi)"
   ]
  },
  {
   "cell_type": "code",
   "execution_count": 20,
   "metadata": {},
   "outputs": [],
   "source": [
    "instructors_collection = new_db['instructors']"
   ]
  },
  {
   "cell_type": "code",
   "execution_count": 21,
   "metadata": {},
   "outputs": [
    {
     "data": {
      "text/plain": [
       "<pymongo.results.InsertOneResult at 0x1a1b39b648>"
      ]
     },
     "execution_count": 21,
     "metadata": {},
     "output_type": "execute_result"
    }
   ],
   "source": [
    "rafael = dict(zip(keys, ['rafael', 32, 'TX', 'purple', 'richard feynmann']))\n",
    "instructors_collection.insert_one(rafael)"
   ]
  },
  {
   "cell_type": "code",
   "execution_count": 22,
   "metadata": {},
   "outputs": [
    {
     "data": {
      "text/plain": [
       "['instructors', 'students']"
      ]
     },
     "execution_count": 22,
     "metadata": {},
     "output_type": "execute_result"
    }
   ],
   "source": [
    "new_db.list_collection_names()"
   ]
  },
  {
   "cell_type": "markdown",
   "metadata": {},
   "source": [
    "### Filling out forms you can almost guarantee this is going into a database"
   ]
  },
  {
   "cell_type": "code",
   "execution_count": 24,
   "metadata": {},
   "outputs": [
    {
     "data": {
      "text/plain": [
       "[{'_id': ObjectId('5d02a52d0fd6cac811d94c11'),\n",
       "  'name': 'Savannah',\n",
       "  'age': 27,\n",
       "  'state': 'DC',\n",
       "  'favorite_color': 'teal',\n",
       "  'favorite_scientist': 'stephen hawking'},\n",
       " {'_id': ObjectId('5d02a5830fd6cac811d94c12'),\n",
       "  'name': 'Matthew',\n",
       "  'age': 37,\n",
       "  'state': 'VA',\n",
       "  'favorite_color': 'red',\n",
       "  'favorite_scientist': 'alan turing'},\n",
       " {'_id': ObjectId('5d02a5c70fd6cac811d94c13'),\n",
       "  'name': 'Dennis',\n",
       "  'age': 37,\n",
       "  'state': 'WV',\n",
       "  'favorite_color': 'green',\n",
       "  'favorite_scientist': 'nikolai tesla'},\n",
       " {'_id': ObjectId('5d02a5ff0fd6cac811d94c14'),\n",
       "  'name': 'Levi',\n",
       "  'age': 30,\n",
       "  'state': 'NY',\n",
       "  'favorite_color': 'aqua',\n",
       "  'favorite_scientist': 'thomas edison'}]"
      ]
     },
     "execution_count": 24,
     "metadata": {},
     "output_type": "execute_result"
    }
   ],
   "source": [
    "# select all from students query....how do I do this?\n",
    "list(students_collection.find({}))"
   ]
  },
  {
   "cell_type": "code",
   "execution_count": 25,
   "metadata": {},
   "outputs": [
    {
     "data": {
      "text/plain": [
       "[{'_id': ObjectId('5d02a6400fd6cac811d94c15'),\n",
       "  'name': 'rafael',\n",
       "  'age': 32,\n",
       "  'state': 'TX',\n",
       "  'favorite_color': 'purple',\n",
       "  'favorite_scientist': 'richard feynmann'}]"
      ]
     },
     "execution_count": 25,
     "metadata": {},
     "output_type": "execute_result"
    }
   ],
   "source": [
    "list(instructors_collection.find({}))"
   ]
  },
  {
   "cell_type": "code",
   "execution_count": 26,
   "metadata": {},
   "outputs": [],
   "source": [
    "boston_collection = new_db['boston']"
   ]
  },
  {
   "cell_type": "markdown",
   "metadata": {},
   "source": [
    "### Let's make a dataframe and store it as a collection of documents"
   ]
  },
  {
   "cell_type": "code",
   "execution_count": 27,
   "metadata": {},
   "outputs": [
    {
     "data": {
      "text/html": [
       "<div>\n",
       "<style scoped>\n",
       "    .dataframe tbody tr th:only-of-type {\n",
       "        vertical-align: middle;\n",
       "    }\n",
       "\n",
       "    .dataframe tbody tr th {\n",
       "        vertical-align: top;\n",
       "    }\n",
       "\n",
       "    .dataframe thead th {\n",
       "        text-align: right;\n",
       "    }\n",
       "</style>\n",
       "<table border=\"1\" class=\"dataframe\">\n",
       "  <thead>\n",
       "    <tr style=\"text-align: right;\">\n",
       "      <th></th>\n",
       "      <th>CRIM</th>\n",
       "      <th>ZN</th>\n",
       "      <th>INDUS</th>\n",
       "      <th>CHAS</th>\n",
       "      <th>NOX</th>\n",
       "      <th>RM</th>\n",
       "      <th>AGE</th>\n",
       "      <th>DIS</th>\n",
       "      <th>RAD</th>\n",
       "      <th>TAX</th>\n",
       "      <th>PTRATIO</th>\n",
       "      <th>B</th>\n",
       "      <th>LSTAT</th>\n",
       "    </tr>\n",
       "  </thead>\n",
       "  <tbody>\n",
       "    <tr>\n",
       "      <th>0</th>\n",
       "      <td>0.00632</td>\n",
       "      <td>18.0</td>\n",
       "      <td>2.31</td>\n",
       "      <td>0.0</td>\n",
       "      <td>0.538</td>\n",
       "      <td>6.575</td>\n",
       "      <td>65.2</td>\n",
       "      <td>4.0900</td>\n",
       "      <td>1.0</td>\n",
       "      <td>296.0</td>\n",
       "      <td>15.3</td>\n",
       "      <td>396.90</td>\n",
       "      <td>4.98</td>\n",
       "    </tr>\n",
       "    <tr>\n",
       "      <th>1</th>\n",
       "      <td>0.02731</td>\n",
       "      <td>0.0</td>\n",
       "      <td>7.07</td>\n",
       "      <td>0.0</td>\n",
       "      <td>0.469</td>\n",
       "      <td>6.421</td>\n",
       "      <td>78.9</td>\n",
       "      <td>4.9671</td>\n",
       "      <td>2.0</td>\n",
       "      <td>242.0</td>\n",
       "      <td>17.8</td>\n",
       "      <td>396.90</td>\n",
       "      <td>9.14</td>\n",
       "    </tr>\n",
       "    <tr>\n",
       "      <th>2</th>\n",
       "      <td>0.02729</td>\n",
       "      <td>0.0</td>\n",
       "      <td>7.07</td>\n",
       "      <td>0.0</td>\n",
       "      <td>0.469</td>\n",
       "      <td>7.185</td>\n",
       "      <td>61.1</td>\n",
       "      <td>4.9671</td>\n",
       "      <td>2.0</td>\n",
       "      <td>242.0</td>\n",
       "      <td>17.8</td>\n",
       "      <td>392.83</td>\n",
       "      <td>4.03</td>\n",
       "    </tr>\n",
       "    <tr>\n",
       "      <th>3</th>\n",
       "      <td>0.03237</td>\n",
       "      <td>0.0</td>\n",
       "      <td>2.18</td>\n",
       "      <td>0.0</td>\n",
       "      <td>0.458</td>\n",
       "      <td>6.998</td>\n",
       "      <td>45.8</td>\n",
       "      <td>6.0622</td>\n",
       "      <td>3.0</td>\n",
       "      <td>222.0</td>\n",
       "      <td>18.7</td>\n",
       "      <td>394.63</td>\n",
       "      <td>2.94</td>\n",
       "    </tr>\n",
       "    <tr>\n",
       "      <th>4</th>\n",
       "      <td>0.06905</td>\n",
       "      <td>0.0</td>\n",
       "      <td>2.18</td>\n",
       "      <td>0.0</td>\n",
       "      <td>0.458</td>\n",
       "      <td>7.147</td>\n",
       "      <td>54.2</td>\n",
       "      <td>6.0622</td>\n",
       "      <td>3.0</td>\n",
       "      <td>222.0</td>\n",
       "      <td>18.7</td>\n",
       "      <td>396.90</td>\n",
       "      <td>5.33</td>\n",
       "    </tr>\n",
       "  </tbody>\n",
       "</table>\n",
       "</div>"
      ],
      "text/plain": [
       "      CRIM    ZN  INDUS  CHAS    NOX     RM   AGE     DIS  RAD    TAX  \\\n",
       "0  0.00632  18.0   2.31   0.0  0.538  6.575  65.2  4.0900  1.0  296.0   \n",
       "1  0.02731   0.0   7.07   0.0  0.469  6.421  78.9  4.9671  2.0  242.0   \n",
       "2  0.02729   0.0   7.07   0.0  0.469  7.185  61.1  4.9671  2.0  242.0   \n",
       "3  0.03237   0.0   2.18   0.0  0.458  6.998  45.8  6.0622  3.0  222.0   \n",
       "4  0.06905   0.0   2.18   0.0  0.458  7.147  54.2  6.0622  3.0  222.0   \n",
       "\n",
       "   PTRATIO       B  LSTAT  \n",
       "0     15.3  396.90   4.98  \n",
       "1     17.8  396.90   9.14  \n",
       "2     17.8  392.83   4.03  \n",
       "3     18.7  394.63   2.94  \n",
       "4     18.7  396.90   5.33  "
      ]
     },
     "execution_count": 27,
     "metadata": {},
     "output_type": "execute_result"
    }
   ],
   "source": [
    "boston = load_boston()\n",
    "data = boston.data\n",
    "columns = boston.feature_names\n",
    "df = pd.DataFrame(data, columns=columns)\n",
    "df.head()"
   ]
  },
  {
   "cell_type": "markdown",
   "metadata": {},
   "source": [
    "# How can we do this?????......"
   ]
  },
  {
   "cell_type": "code",
   "execution_count": 31,
   "metadata": {},
   "outputs": [],
   "source": [
    "# iterate through rows\n",
    "# convert row to dictionary\n",
    "# insert row\n",
    "for index, row in df.iterrows():\n",
    "    doc = dict(row) # NOICE We can turn this row into a dictionary because python is awesome\n",
    "    boston_collection.insert_one(doc)"
   ]
  },
  {
   "cell_type": "code",
   "execution_count": 95,
   "metadata": {
    "scrolled": true
   },
   "outputs": [
    {
     "data": {
      "text/plain": [
       "[{'_id': ObjectId('5d02a82d0fd6cac811d94c16'),\n",
       "  'CRIM': 0.00632,\n",
       "  'ZN': 18.0,\n",
       "  'INDUS': 2.31,\n",
       "  'CHAS': 0.0,\n",
       "  'NOX': 0.538,\n",
       "  'RM': 6.575,\n",
       "  'AGE': 65.2,\n",
       "  'DIS': 4.09,\n",
       "  'RAD': 1.0,\n",
       "  'TAX': 296.0,\n",
       "  'PTRATIO': 15.3,\n",
       "  'B': 396.9,\n",
       "  'LSTAT': 4.98},\n",
       " {'_id': ObjectId('5d02a82d0fd6cac811d94c17'),\n",
       "  'CRIM': 0.02731,\n",
       "  'ZN': 0.0,\n",
       "  'INDUS': 7.07,\n",
       "  'CHAS': 0.0,\n",
       "  'NOX': 0.469,\n",
       "  'RM': 6.421,\n",
       "  'AGE': 78.9,\n",
       "  'DIS': 4.9671,\n",
       "  'RAD': 2.0,\n",
       "  'TAX': 242.0,\n",
       "  'PTRATIO': 17.8,\n",
       "  'B': 396.9,\n",
       "  'LSTAT': 9.14}]"
      ]
     },
     "execution_count": 95,
     "metadata": {},
     "output_type": "execute_result"
    }
   ],
   "source": [
    "list(boston_collection.find({}))[:2]"
   ]
  },
  {
   "cell_type": "code",
   "execution_count": 44,
   "metadata": {},
   "outputs": [],
   "source": [
    "boston2_coll = new_db[\"boston2\"]"
   ]
  },
  {
   "cell_type": "code",
   "execution_count": 45,
   "metadata": {},
   "outputs": [
    {
     "data": {
      "text/plain": [
       "<pymongo.results.InsertManyResult at 0x1a1a423108>"
      ]
     },
     "execution_count": 45,
     "metadata": {},
     "output_type": "execute_result"
    }
   ],
   "source": [
    "# or insert all at once using to_json and json_loads\n",
    "boston2_coll.insert_many(json.loads(df.to_json(orient='records')))"
   ]
  },
  {
   "cell_type": "code",
   "execution_count": 46,
   "metadata": {},
   "outputs": [],
   "source": [
    "res1 = list(boston_collection.find({}))\n",
    "res2 = list(boston2_coll.find({}))"
   ]
  },
  {
   "cell_type": "code",
   "execution_count": 48,
   "metadata": {},
   "outputs": [
    {
     "data": {
      "text/plain": [
       "{'_id': ObjectId('5d02a82d0fd6cac811d94c16'),\n",
       " 'CRIM': 0.00632,\n",
       " 'ZN': 18.0,\n",
       " 'INDUS': 2.31,\n",
       " 'CHAS': 0.0,\n",
       " 'NOX': 0.538,\n",
       " 'RM': 6.575,\n",
       " 'AGE': 65.2,\n",
       " 'DIS': 4.09,\n",
       " 'RAD': 1.0,\n",
       " 'TAX': 296.0,\n",
       " 'PTRATIO': 15.3,\n",
       " 'B': 396.9,\n",
       " 'LSTAT': 4.98}"
      ]
     },
     "execution_count": 48,
     "metadata": {},
     "output_type": "execute_result"
    }
   ],
   "source": [
    "res1[0]"
   ]
  },
  {
   "cell_type": "code",
   "execution_count": 49,
   "metadata": {},
   "outputs": [
    {
     "data": {
      "text/plain": [
       "{'_id': ObjectId('5d02a9690fd6cac811d94e10'),\n",
       " 'CRIM': 0.00632,\n",
       " 'ZN': 18.0,\n",
       " 'INDUS': 2.31,\n",
       " 'CHAS': 0.0,\n",
       " 'NOX': 0.538,\n",
       " 'RM': 6.575,\n",
       " 'AGE': 65.2,\n",
       " 'DIS': 4.09,\n",
       " 'RAD': 1.0,\n",
       " 'TAX': 296.0,\n",
       " 'PTRATIO': 15.3,\n",
       " 'B': 396.9,\n",
       " 'LSTAT': 4.98}"
      ]
     },
     "execution_count": 49,
     "metadata": {},
     "output_type": "execute_result"
    }
   ],
   "source": [
    "res2[0]"
   ]
  },
  {
   "cell_type": "markdown",
   "metadata": {},
   "source": [
    "# Let's scrape some ebay images and store in a Mongo DB"
   ]
  },
  {
   "cell_type": "markdown",
   "metadata": {},
   "source": [
    "# Step 1 - Get the images"
   ]
  },
  {
   "cell_type": "code",
   "execution_count": 51,
   "metadata": {},
   "outputs": [],
   "source": [
    "url = \"https://www.ebay.com/sch/i.html?_nkw=funko+pop\""
   ]
  },
  {
   "cell_type": "code",
   "execution_count": 52,
   "metadata": {},
   "outputs": [],
   "source": [
    "req = requests.get(url)"
   ]
  },
  {
   "cell_type": "code",
   "execution_count": 53,
   "metadata": {},
   "outputs": [],
   "source": [
    "soup = BeautifulSoup(req.content, 'html.parser')"
   ]
  },
  {
   "cell_type": "code",
   "execution_count": 58,
   "metadata": {},
   "outputs": [
    {
     "data": {
      "text/plain": [
       "['https://i.ebayimg.com/thumbs/images/g/JlsAAOSwAYlcsNpc/s-l225.jpg',\n",
       " 'https://i.ebayimg.com/thumbs/images/g/RaoAAOSwPYdcbteC/s-l225.jpg',\n",
       " 'https://i.ebayimg.com/thumbs/images/g/QHUAAOSwQXlcUNZI/s-l225.jpg',\n",
       " 'https://i.ebayimg.com/thumbs/images/g/YrMAAOSwZXpc-UBQ/s-l225.jpg',\n",
       " 'https://i.ebayimg.com/thumbs/images/g/WAAAAOSwiSJbmWmJ/s-l225.jpg',\n",
       " 'https://i.ebayimg.com/thumbs/images/g/4wQAAOSw6GhcdJph/s-l225.jpg',\n",
       " 'https://i.ebayimg.com/thumbs/images/g/BW4AAOSwootcv5BX/s-l225.jpg']"
      ]
     },
     "execution_count": 58,
     "metadata": {},
     "output_type": "execute_result"
    }
   ],
   "source": [
    "image_urls = [tag.get('src') for tag in soup.find_all(\"img\", class_=\"s-item__image-img\") if tag.get('src').startswith('https://i.ebayimg.com/')]\n",
    "image_urls"
   ]
  },
  {
   "cell_type": "code",
   "execution_count": 69,
   "metadata": {},
   "outputs": [],
   "source": [
    "r = requests.get(image_urls[0])\n",
    "r.content\n",
    "i = Image.open(BytesIO(r.content))"
   ]
  },
  {
   "cell_type": "code",
   "execution_count": 71,
   "metadata": {},
   "outputs": [],
   "source": [
    "funko_coll = new_db['funko']"
   ]
  },
  {
   "cell_type": "code",
   "execution_count": 75,
   "metadata": {},
   "outputs": [
    {
     "data": {
      "text/plain": [
       "<pymongo.results.InsertOneResult at 0x1a218a4b08>"
      ]
     },
     "execution_count": 75,
     "metadata": {},
     "output_type": "execute_result"
    }
   ],
   "source": [
    "funko_coll.insert_one({'image_content': r.content})"
   ]
  },
  {
   "cell_type": "code",
   "execution_count": 76,
   "metadata": {},
   "outputs": [],
   "source": [
    "for url in image_urls[1:]:\n",
    "    r = requests.get(url)\n",
    "    r.content\n",
    "    i = Image.open(BytesIO(r.content))\n",
    "    funko_coll.insert_one({'image_content': r.content})"
   ]
  },
  {
   "cell_type": "code",
   "execution_count": 78,
   "metadata": {},
   "outputs": [
    {
     "data": {
      "image/png": "[encoded data removed]",
      "text/plain": [
       "<PIL.JpegImagePlugin.JpegImageFile image mode=RGB size=147x225 at 0x1A216F5DD8>"
      ]
     },
     "execution_count": 78,
     "metadata": {},
     "output_type": "execute_result"
    }
   ],
   "source": [
    "Image.open(BytesIO(list(funko_coll.find({}, {'image_content'}))[0]['image_content']))"
   ]
  },
  {
   "cell_type": "code",
   "execution_count": 92,
   "metadata": {},
   "outputs": [],
   "source": [
    "for res in funko_coll.find({}):\n",
    "    img = Image.open(BytesIO(res['image_content']))\n",
    "    img.show()"
   ]
  },
  {
   "cell_type": "code",
   "execution_count": null,
   "metadata": {},
   "outputs": [],
   "source": []
  },
  {
   "cell_type": "code",
   "execution_count": null,
   "metadata": {},
   "outputs": [],
   "source": []
  },
  {
   "cell_type": "markdown",
   "metadata": {},
   "source": [
    "### What did we learn today?\n",
    "* How to make a table in a markdown cell\n",
    "* Convert a Dataframe into a MongoDB\n",
    "* How to scrape images and store them in a mongodb\n",
    "* insert_many\n",
    "* Learned more about each other #community"
   ]
  },
  {
   "cell_type": "code",
   "execution_count": null,
   "metadata": {},
   "outputs": [],
   "source": []
  }
 ],
 "metadata": {
  "kernelspec": {
   "display_name": "Python 3",
   "language": "python",
   "name": "python3"
  },
  "language_info": {
   "codemirror_mode": {
    "name": "ipython",
    "version": 3
   },
   "file_extension": ".py",
   "mimetype": "text/x-python",
   "name": "python",
   "nbconvert_exporter": "python",
   "pygments_lexer": "ipython3",
   "version": "3.7.3"
  }
 },
 "nbformat": 4,
 "nbformat_minor": 2
}
