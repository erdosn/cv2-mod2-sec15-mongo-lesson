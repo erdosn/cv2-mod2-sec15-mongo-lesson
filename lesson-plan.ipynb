{
 "cells": [
  {
   "cell_type": "markdown",
   "metadata": {},
   "source": [
    "### Questions"
   ]
  },
  {
   "cell_type": "markdown",
   "metadata": {},
   "source": [
    "### Objectives\n",
    "YWBAT\n",
    "* write data into a mongo db\n",
    "* read data from a mongo db"
   ]
  },
  {
   "cell_type": "markdown",
   "metadata": {},
   "source": [
    "## Steps to run Mongo and PyMongo\n",
    "* Step 1: Run `mongod` in your terminal\n",
    "* Step 2: Connect using pymongo Client specifying host and port\n",
    "* Step 3: Have fun! Or don't...I don't know..."
   ]
  },
  {
   "cell_type": "markdown",
   "metadata": {},
   "source": [
    "### Outline\n",
    "* Objectives\n",
    "* Questions\n",
    "* Discuss the differences between MongoDB and SQL (Relational DBs)\n",
    "* Scrape webpage data and store it in a MongoDB that we create"
   ]
  },
  {
   "cell_type": "code",
   "execution_count": 1,
   "metadata": {},
   "outputs": [],
   "source": [
    "import json\n",
    "import requests\n",
    "\n",
    "import pandas as pd\n",
    "import numpy as np\n",
    "\n",
    "from pymongo import MongoClient\n",
    "\n",
    "import matplotlib.pyplot as plt"
   ]
  },
  {
   "cell_type": "markdown",
   "metadata": {},
   "source": [
    "| SQL | Mongo |\n",
    "| ----| ------| \n",
    "| Database | Database |\n",
    "| Table    | Collection |\n",
    "| Records/Rows | Document |"
   ]
  },
  {
   "cell_type": "markdown",
   "metadata": {},
   "source": [
    "# Let's Start Up my Local Mongo Server\n",
    "\n",
    "run `mongod` in terminal"
   ]
  },
  {
   "cell_type": "markdown",
   "metadata": {},
   "source": [
    "# Connect to Local Mongo Server with Python"
   ]
  },
  {
   "cell_type": "code",
   "execution_count": 2,
   "metadata": {},
   "outputs": [],
   "source": [
    "# What is a host? server ip\n",
    "# What is a port? connect through a port, so it's the location to plug in our connection\n",
    "client = MongoClient('localhost', 27017)"
   ]
  },
  {
   "cell_type": "code",
   "execution_count": 4,
   "metadata": {},
   "outputs": [],
   "source": [
    "# let's make a new database called ebay\n",
    "ebay = client['ebay']"
   ]
  },
  {
   "cell_type": "code",
   "execution_count": 5,
   "metadata": {},
   "outputs": [
    {
     "data": {
      "text/plain": [
       "['admin', 'config', 'local', 'music_tweets', 'new_db', 'tweets']"
      ]
     },
     "execution_count": 5,
     "metadata": {},
     "output_type": "execute_result"
    }
   ],
   "source": [
    "client.list_database_names()"
   ]
  },
  {
   "cell_type": "code",
   "execution_count": 6,
   "metadata": {},
   "outputs": [],
   "source": [
    "# let's make a collection for our database\n",
    "tech_bags = ebay['tech_bags']"
   ]
  },
  {
   "cell_type": "code",
   "execution_count": 7,
   "metadata": {},
   "outputs": [
    {
     "data": {
      "text/plain": [
       "['admin', 'config', 'local', 'music_tweets', 'new_db', 'tweets']"
      ]
     },
     "execution_count": 7,
     "metadata": {},
     "output_type": "execute_result"
    }
   ],
   "source": [
    "client.list_database_names()"
   ]
  },
  {
   "cell_type": "markdown",
   "metadata": {},
   "source": [
    "Notice our database hasn't been added. This is because we have to add a document to a collection in that database."
   ]
  },
  {
   "cell_type": "markdown",
   "metadata": {},
   "source": [
    "### let me make a fake table that I won't use with a document, just to make the database"
   ]
  },
  {
   "cell_type": "code",
   "execution_count": 10,
   "metadata": {},
   "outputs": [],
   "source": [
    "collection_one = ebay['collection_one']"
   ]
  },
  {
   "cell_type": "code",
   "execution_count": 9,
   "metadata": {},
   "outputs": [],
   "source": [
    "# let's create a document to put into our MongoDB\n",
    "document = {\"name\": \"Moana\", \"age\": 15}"
   ]
  },
  {
   "cell_type": "code",
   "execution_count": 11,
   "metadata": {},
   "outputs": [
    {
     "data": {
      "text/plain": [
       "<pymongo.results.InsertOneResult at 0x123f93b08>"
      ]
     },
     "execution_count": 11,
     "metadata": {},
     "output_type": "execute_result"
    }
   ],
   "source": [
    "collection_one.insert_one(document)"
   ]
  },
  {
   "cell_type": "code",
   "execution_count": 12,
   "metadata": {},
   "outputs": [
    {
     "data": {
      "text/plain": [
       "['admin', 'config', 'ebay', 'local', 'music_tweets', 'new_db', 'tweets']"
      ]
     },
     "execution_count": 12,
     "metadata": {},
     "output_type": "execute_result"
    }
   ],
   "source": [
    "client.list_database_names()"
   ]
  },
  {
   "cell_type": "markdown",
   "metadata": {},
   "source": [
    "### when you write a document to a collection, the database gets created"
   ]
  },
  {
   "cell_type": "markdown",
   "metadata": {},
   "source": [
    "# let's scrape some ebay data and store it to our mongoDB"
   ]
  },
  {
   "cell_type": "code",
   "execution_count": 13,
   "metadata": {},
   "outputs": [],
   "source": [
    "import requests\n",
    "from bs4 import BeautifulSoup"
   ]
  },
  {
   "cell_type": "code",
   "execution_count": 37,
   "metadata": {},
   "outputs": [],
   "source": [
    "url = \"https://www.ebay.com/sch/i.html?_nkw=tech+backpack\""
   ]
  },
  {
   "cell_type": "code",
   "execution_count": 15,
   "metadata": {},
   "outputs": [],
   "source": [
    "req = requests.get(url)"
   ]
  },
  {
   "cell_type": "code",
   "execution_count": 17,
   "metadata": {},
   "outputs": [],
   "source": [
    "# beautiful soup - library used for parsing an html/xml document\n",
    "soup = BeautifulSoup(req.content, 'html.parser')"
   ]
  },
  {
   "cell_type": "code",
   "execution_count": 20,
   "metadata": {},
   "outputs": [],
   "source": [
    "# let's use the item-wrapper to get the boxes of data\n",
    "# this creates a list of soup objects\n",
    "boxes = soup.find_all(\"div\", class_=\"s-item__wrapper clearfix\")"
   ]
  },
  {
   "cell_type": "code",
   "execution_count": 35,
   "metadata": {
    "scrolled": false
   },
   "outputs": [],
   "source": [
    "for box in boxes:\n",
    "    box_dict = {}\n",
    "\n",
    "    box_dict[\"name\"] = box.find(\"h3\", class_=\"s-item__title\").text\n",
    "    box_dict[\"price\"] = box.find(\"span\", class_=\"s-item__price\").text\n",
    "    box_dict[\"shipping_info\"] = box.find(\"span\", class_=\"s-item__shipping\").text\n",
    "    try:\n",
    "        review_box = box.find(\"div\", class_=\"s-item__reviews\").find_all(\"svg\")\n",
    "        box_dict[\"num_stars\"] = len(review_box)\n",
    "    except:\n",
    "        review_box = None\n",
    "        box_dict[\"num_stars\"] = None"
   ]
  },
  {
   "cell_type": "markdown",
   "metadata": {},
   "source": [
    "# now let's do this process, but over all the pages\n"
   ]
  },
  {
   "cell_type": "code",
   "execution_count": 38,
   "metadata": {},
   "outputs": [],
   "source": [
    "url = \"https://www.ebay.com/sch/i.html?_nkw=tech+backpack&_pgn={}\""
   ]
  },
  {
   "cell_type": "code",
   "execution_count": 39,
   "metadata": {},
   "outputs": [
    {
     "data": {
      "text/plain": [
       "['https://www.ebay.com/sch/i.html?_nkw=tech+backpack&_pgn=1',\n",
       " 'https://www.ebay.com/sch/i.html?_nkw=tech+backpack&_pgn=2',\n",
       " 'https://www.ebay.com/sch/i.html?_nkw=tech+backpack&_pgn=3',\n",
       " 'https://www.ebay.com/sch/i.html?_nkw=tech+backpack&_pgn=4',\n",
       " 'https://www.ebay.com/sch/i.html?_nkw=tech+backpack&_pgn=5']"
      ]
     },
     "execution_count": 39,
     "metadata": {},
     "output_type": "execute_result"
    }
   ],
   "source": [
    "urls = [url.format(i) for i in range(1, 20)]\n",
    "urls[:5]"
   ]
  },
  {
   "cell_type": "markdown",
   "metadata": {},
   "source": [
    "# Now that my URLs are made, I'm going to loop through all of them and scrape"
   ]
  },
  {
   "cell_type": "code",
   "execution_count": null,
   "metadata": {
    "scrolled": false
   },
   "outputs": [],
   "source": [
    "for index, url in enumerate(urls):\n",
    "    print(\"-\"*50)\n",
    "    print(\"Scraping Page {}\".format(index + 1))\n",
    "    req = requests.get(url)\n",
    "    soup = BeautifulSoup(req.content, 'html.parser')\n",
    "    boxes = soup.find_all(\"div\", class_=\"s-item__wrapper clearfix\")\n",
    "    for box in boxes:\n",
    "        box_dict = {}\n",
    "\n",
    "        try:\n",
    "            box_dict[\"name\"] = box.find(\"h3\", class_=\"s-item__title\").text\n",
    "        except:\n",
    "            box_dict[\"name\"] = None\n",
    "            \n",
    "        try:\n",
    "            box_dict[\"price\"] = box.find(\"span\", class_=\"s-item__price\").text\n",
    "        except:\n",
    "            box_dict[\"price\"] = None\n",
    "        \n",
    "        try:\n",
    "            box_dict[\"shipping_info\"] = box.find(\"span\", class_=\"s-item__shipping\").text\n",
    "        except:\n",
    "            box_dict[\"shipping_info\"] = None\n",
    "        \n",
    "        try:\n",
    "            review_box = box.find(\"div\", class_=\"s-item__reviews\").find_all(\"svg\")\n",
    "            box_dict[\"num_stars\"] = len(review_box)\n",
    "        except:\n",
    "            review_box = None\n",
    "            box_dict[\"num_stars\"] = None\n",
    "        \n",
    "        # Now we insert this dictionary into our db\n",
    "        \n",
    "        tech_bags.insert_one(box_dict)\n",
    "        total_docs = tech_bags.count_documents(filter={})\n",
    "        print(\"inserted document, total_docs = {}\".format(total_docs))"
   ]
  },
  {
   "cell_type": "markdown",
   "metadata": {},
   "source": [
    "### Let's query on our collection"
   ]
  },
  {
   "cell_type": "code",
   "execution_count": 42,
   "metadata": {},
   "outputs": [],
   "source": [
    "# let's filter free shipping items only\n",
    "filt = {\"shipping_info\" : {\"$regex\" : \"Free\"}}"
   ]
  },
  {
   "cell_type": "code",
   "execution_count": 45,
   "metadata": {},
   "outputs": [
    {
     "name": "stdout",
     "output_type": "stream",
     "text": [
      "{'_id': ObjectId('5dc5aaeef84ae6c2f447fafd'), 'name': 'Tech Backpack BackPack - Smart Laptop Backpack USB Charging with Free Shipping!', 'price': '$21.12', 'shipping_info': 'Free Shipping', 'num_stars': None}\n",
      "\n",
      "\n",
      "\n",
      "{'_id': ObjectId('5dc5aaeef84ae6c2f447fafe'), 'name': \"Michael Kors Men's Kent Nylon Army Camo Tech Backpack (Select Color)\", 'price': '$100.65', 'shipping_info': 'Free Shipping', 'num_stars': None}\n",
      "\n",
      "\n",
      "\n",
      "{'_id': ObjectId('5dc5aaeef84ae6c2f447faff'), 'name': 'MICHAEL KORS MENS KENT TECH NYLON ARMY CAMO BACKPACK BOOKBAG BAG INDIGO BLUE ', 'price': '$69.99', 'shipping_info': 'Free Shipping', 'num_stars': 5}\n",
      "\n",
      "\n",
      "\n",
      "{'_id': ObjectId('5dc5aaeef84ae6c2f447fb01'), 'name': 'MICHAEL KORS MENS KENT TECH NYLON CAMO LOGO STRIPE BACKPACK BOOKBAG BAG BLACK', 'price': '$69.99', 'shipping_info': 'Free Shipping', 'num_stars': None}\n",
      "\n",
      "\n",
      "\n",
      "{'_id': ObjectId('5dc5aaeef84ae6c2f447fb03'), 'name': 'MICHAEL KORS MENS KENT TECH NYLON ARMY BLACK CAMO BACKPACK BOOKBAG BAG NEW', 'price': '$75.00', 'shipping_info': 'Free Shipping', 'num_stars': 5}\n",
      "\n",
      "\n",
      "\n"
     ]
    }
   ],
   "source": [
    "for i, r in enumerate(tech_bags.find(filt, limit=5)):\n",
    "    print(r)\n",
    "    print(\"\\n\\n\")"
   ]
  },
  {
   "cell_type": "markdown",
   "metadata": {},
   "source": [
    "# Let's load this into pandas"
   ]
  },
  {
   "cell_type": "code",
   "execution_count": 47,
   "metadata": {},
   "outputs": [
    {
     "data": {
      "text/html": [
       "<div>\n",
       "<style scoped>\n",
       "    .dataframe tbody tr th:only-of-type {\n",
       "        vertical-align: middle;\n",
       "    }\n",
       "\n",
       "    .dataframe tbody tr th {\n",
       "        vertical-align: top;\n",
       "    }\n",
       "\n",
       "    .dataframe thead th {\n",
       "        text-align: right;\n",
       "    }\n",
       "</style>\n",
       "<table border=\"1\" class=\"dataframe\">\n",
       "  <thead>\n",
       "    <tr style=\"text-align: right;\">\n",
       "      <th></th>\n",
       "      <th>name</th>\n",
       "      <th>age</th>\n",
       "      <th>city</th>\n",
       "      <th>population</th>\n",
       "    </tr>\n",
       "  </thead>\n",
       "  <tbody>\n",
       "    <tr>\n",
       "      <td>0</td>\n",
       "      <td>Rafael</td>\n",
       "      <td>33.0</td>\n",
       "      <td>NaN</td>\n",
       "      <td>NaN</td>\n",
       "    </tr>\n",
       "    <tr>\n",
       "      <td>1</td>\n",
       "      <td>Doug</td>\n",
       "      <td>NaN</td>\n",
       "      <td>Dallas</td>\n",
       "      <td>???</td>\n",
       "    </tr>\n",
       "  </tbody>\n",
       "</table>\n",
       "</div>"
      ],
      "text/plain": [
       "     name   age    city population\n",
       "0  Rafael  33.0     NaN        NaN\n",
       "1    Doug   NaN  Dallas        ???"
      ]
     },
     "execution_count": 47,
     "metadata": {},
     "output_type": "execute_result"
    }
   ],
   "source": [
    "dict1 = {\"name\": \"Rafael\", \"age\": 33}\n",
    "dict2 = {\"name\": \"Doug\", \"city\": \"Dallas\", \"population\": \"???\"}\n",
    "\n",
    "\n",
    "df = pd.DataFrame([dict1, dict2])\n",
    "df.head()"
   ]
  },
  {
   "cell_type": "markdown",
   "metadata": {},
   "source": [
    "# let's load our mongodb filter in a dataframe\n"
   ]
  },
  {
   "cell_type": "code",
   "execution_count": 49,
   "metadata": {},
   "outputs": [
    {
     "data": {
      "text/html": [
       "<div>\n",
       "<style scoped>\n",
       "    .dataframe tbody tr th:only-of-type {\n",
       "        vertical-align: middle;\n",
       "    }\n",
       "\n",
       "    .dataframe tbody tr th {\n",
       "        vertical-align: top;\n",
       "    }\n",
       "\n",
       "    .dataframe thead th {\n",
       "        text-align: right;\n",
       "    }\n",
       "</style>\n",
       "<table border=\"1\" class=\"dataframe\">\n",
       "  <thead>\n",
       "    <tr style=\"text-align: right;\">\n",
       "      <th></th>\n",
       "      <th>_id</th>\n",
       "      <th>name</th>\n",
       "      <th>price</th>\n",
       "      <th>shipping_info</th>\n",
       "      <th>num_stars</th>\n",
       "    </tr>\n",
       "  </thead>\n",
       "  <tbody>\n",
       "    <tr>\n",
       "      <td>0</td>\n",
       "      <td>5dc5aaeef84ae6c2f447fafd</td>\n",
       "      <td>Tech Backpack BackPack - Smart Laptop Backpack...</td>\n",
       "      <td>$21.12</td>\n",
       "      <td>Free Shipping</td>\n",
       "      <td>NaN</td>\n",
       "    </tr>\n",
       "    <tr>\n",
       "      <td>1</td>\n",
       "      <td>5dc5aaeef84ae6c2f447fafe</td>\n",
       "      <td>Michael Kors Men's Kent Nylon Army Camo Tech B...</td>\n",
       "      <td>$100.65</td>\n",
       "      <td>Free Shipping</td>\n",
       "      <td>NaN</td>\n",
       "    </tr>\n",
       "    <tr>\n",
       "      <td>2</td>\n",
       "      <td>5dc5aaeef84ae6c2f447faff</td>\n",
       "      <td>MICHAEL KORS MENS KENT TECH NYLON ARMY CAMO BA...</td>\n",
       "      <td>$69.99</td>\n",
       "      <td>Free Shipping</td>\n",
       "      <td>5.0</td>\n",
       "    </tr>\n",
       "    <tr>\n",
       "      <td>3</td>\n",
       "      <td>5dc5aaeef84ae6c2f447fb01</td>\n",
       "      <td>MICHAEL KORS MENS KENT TECH NYLON CAMO LOGO ST...</td>\n",
       "      <td>$69.99</td>\n",
       "      <td>Free Shipping</td>\n",
       "      <td>NaN</td>\n",
       "    </tr>\n",
       "    <tr>\n",
       "      <td>4</td>\n",
       "      <td>5dc5aaeef84ae6c2f447fb03</td>\n",
       "      <td>MICHAEL KORS MENS KENT TECH NYLON ARMY BLACK C...</td>\n",
       "      <td>$75.00</td>\n",
       "      <td>Free Shipping</td>\n",
       "      <td>5.0</td>\n",
       "    </tr>\n",
       "  </tbody>\n",
       "</table>\n",
       "</div>"
      ],
      "text/plain": [
       "                        _id  \\\n",
       "0  5dc5aaeef84ae6c2f447fafd   \n",
       "1  5dc5aaeef84ae6c2f447fafe   \n",
       "2  5dc5aaeef84ae6c2f447faff   \n",
       "3  5dc5aaeef84ae6c2f447fb01   \n",
       "4  5dc5aaeef84ae6c2f447fb03   \n",
       "\n",
       "                                                name    price  shipping_info  \\\n",
       "0  Tech Backpack BackPack - Smart Laptop Backpack...   $21.12  Free Shipping   \n",
       "1  Michael Kors Men's Kent Nylon Army Camo Tech B...  $100.65  Free Shipping   \n",
       "2  MICHAEL KORS MENS KENT TECH NYLON ARMY CAMO BA...   $69.99  Free Shipping   \n",
       "3  MICHAEL KORS MENS KENT TECH NYLON CAMO LOGO ST...   $69.99  Free Shipping   \n",
       "4  MICHAEL KORS MENS KENT TECH NYLON ARMY BLACK C...   $75.00  Free Shipping   \n",
       "\n",
       "   num_stars  \n",
       "0        NaN  \n",
       "1        NaN  \n",
       "2        5.0  \n",
       "3        NaN  \n",
       "4        5.0  "
      ]
     },
     "execution_count": 49,
     "metadata": {},
     "output_type": "execute_result"
    }
   ],
   "source": [
    "list_of_docs = list(tech_bags.find(filt))\n",
    "\n",
    "df = pd.DataFrame(list_of_docs)\n",
    "df.head()"
   ]
  },
  {
   "cell_type": "markdown",
   "metadata": {},
   "source": [
    "### What did we learn today?\n",
    "- Use try/except to handle missing info\n",
    "- How to load a mongo filter into a dataframe\n",
    "- How to set up a mongodb\n",
    "- Learned that Beautiful Soup is a parser\n",
    "- Reading/Writing data from/into a MongoDB"
   ]
  },
  {
   "cell_type": "code",
   "execution_count": null,
   "metadata": {},
   "outputs": [],
   "source": []
  }
 ],
 "metadata": {
  "kernelspec": {
   "display_name": "Python 3",
   "language": "python",
   "name": "python3"
  },
  "language_info": {
   "codemirror_mode": {
    "name": "ipython",
    "version": 3
   },
   "file_extension": ".py",
   "mimetype": "text/x-python",
   "name": "python",
   "nbconvert_exporter": "python",
   "pygments_lexer": "ipython3",
   "version": "3.6.0"
  }
 },
 "nbformat": 4,
 "nbformat_minor": 2
}
