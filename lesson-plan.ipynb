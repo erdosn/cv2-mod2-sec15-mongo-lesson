{
 "cells": [
  {
   "cell_type": "markdown",
   "metadata": {},
   "source": [
    "### Questions\n",
    "* run mongo from start to jupyter to finish? \n",
    "* keyvalue vs doc stores?"
   ]
  },
  {
   "cell_type": "markdown",
   "metadata": {},
   "source": [
    "### Objectives\n",
    "YWBAT\n",
    "* write data into a mongo db\n",
    "* read data from a mongo db\n",
    "* write a data processing job using pymongo"
   ]
  },
  {
   "cell_type": "markdown",
   "metadata": {},
   "source": []
  },
  {
   "cell_type": "markdown",
   "metadata": {},
   "source": [
    "## Steps to run Mongo and PyMongo\n",
    "* Step 1: Run `mongod` in your terminal\n",
    "    * to interact with it you can use terminal or python\n",
    "* Step 2: Connect using pymongo Client specifying host and port\n",
    "* Step 3: Have fun! Or don't...I don't know..."
   ]
  },
  {
   "cell_type": "markdown",
   "metadata": {},
   "source": [
    "### Outline\n",
    "* Questions\n",
    "* Objectives\n",
    "* "
   ]
  },
  {
   "cell_type": "code",
   "execution_count": 1,
   "metadata": {},
   "outputs": [],
   "source": [
    "import json \n",
    "from pymongo import MongoClient"
   ]
  },
  {
   "cell_type": "markdown",
   "metadata": {},
   "source": [
    "| SQL | Mongo |\n",
    "| ----| ------| \n",
    "| Database | Database |\n",
    "| Table    | Collection |\n",
    "| Records/Rows | Document |"
   ]
  },
  {
   "cell_type": "code",
   "execution_count": 2,
   "metadata": {},
   "outputs": [],
   "source": [
    "# Let's create a database and a collection and a document"
   ]
  },
  {
   "cell_type": "code",
   "execution_count": 3,
   "metadata": {},
   "outputs": [],
   "source": [
    "client = MongoClient(host='localhost', port=27017)"
   ]
  },
  {
   "cell_type": "code",
   "execution_count": 4,
   "metadata": {},
   "outputs": [],
   "source": [
    "# how do we make stuff in our mongodb?"
   ]
  },
  {
   "cell_type": "code",
   "execution_count": 5,
   "metadata": {},
   "outputs": [
    {
     "data": {
      "text/plain": [
       "['admin',\n",
       " 'config',\n",
       " 'ebay',\n",
       " 'headstorm_client_db',\n",
       " 'local',\n",
       " 'music_tweets',\n",
       " 'new_db',\n",
       " 'tweets']"
      ]
     },
     "execution_count": 5,
     "metadata": {},
     "output_type": "execute_result"
    }
   ],
   "source": [
    "client.list_database_names()"
   ]
  },
  {
   "cell_type": "code",
   "execution_count": 8,
   "metadata": {},
   "outputs": [],
   "source": [
    "ebay = client['ebay']"
   ]
  },
  {
   "cell_type": "code",
   "execution_count": 9,
   "metadata": {},
   "outputs": [
    {
     "data": {
      "text/plain": [
       "pymongo.database.Database"
      ]
     },
     "execution_count": 9,
     "metadata": {},
     "output_type": "execute_result"
    }
   ],
   "source": [
    "type(ebay)"
   ]
  },
  {
   "cell_type": "code",
   "execution_count": 10,
   "metadata": {},
   "outputs": [
    {
     "data": {
      "text/plain": [
       "['collection_one', 'tech_bags']"
      ]
     },
     "execution_count": 10,
     "metadata": {},
     "output_type": "execute_result"
    }
   ],
   "source": [
    "ebay.list_collection_names()"
   ]
  },
  {
   "cell_type": "code",
   "execution_count": 12,
   "metadata": {},
   "outputs": [
    {
     "data": {
      "text/plain": [
       "Collection(Database(MongoClient(host=['localhost:27017'], document_class=dict, tz_aware=False, connect=True), 'ebay'), 'tech_bags')"
      ]
     },
     "execution_count": 12,
     "metadata": {},
     "output_type": "execute_result"
    }
   ],
   "source": [
    "tech_bags_collection = ebay['tech_bags']\n",
    "tech_bags_collection"
   ]
  },
  {
   "cell_type": "code",
   "execution_count": 13,
   "metadata": {},
   "outputs": [
    {
     "data": {
      "text/plain": [
       "Collection(Database(MongoClient(host=['localhost:27017'], document_class=dict, tz_aware=False, connect=True), 'ebay'), 'tech_bags')"
      ]
     },
     "execution_count": 13,
     "metadata": {},
     "output_type": "execute_result"
    }
   ],
   "source": [
    "client['ebay']['tech_bags']"
   ]
  },
  {
   "cell_type": "code",
   "execution_count": 6,
   "metadata": {},
   "outputs": [],
   "source": [
    "aprft = client['AprFT']"
   ]
  },
  {
   "cell_type": "code",
   "execution_count": 7,
   "metadata": {},
   "outputs": [
    {
     "data": {
      "text/plain": [
       "['admin',\n",
       " 'config',\n",
       " 'ebay',\n",
       " 'headstorm_client_db',\n",
       " 'local',\n",
       " 'music_tweets',\n",
       " 'new_db',\n",
       " 'tweets']"
      ]
     },
     "execution_count": 7,
     "metadata": {},
     "output_type": "execute_result"
    }
   ],
   "source": [
    "client.list_database_names()"
   ]
  },
  {
   "cell_type": "code",
   "execution_count": 14,
   "metadata": {},
   "outputs": [],
   "source": [
    "students = aprft['students']"
   ]
  },
  {
   "cell_type": "code",
   "execution_count": 15,
   "metadata": {},
   "outputs": [
    {
     "data": {
      "text/plain": [
       "pymongo.collection.Collection"
      ]
     },
     "execution_count": 15,
     "metadata": {},
     "output_type": "execute_result"
    }
   ],
   "source": [
    "type(students)"
   ]
  },
  {
   "cell_type": "code",
   "execution_count": 16,
   "metadata": {},
   "outputs": [
    {
     "data": {
      "text/plain": [
       "[]"
      ]
     },
     "execution_count": 16,
     "metadata": {},
     "output_type": "execute_result"
    }
   ],
   "source": [
    "aprft.list_collection_names()"
   ]
  },
  {
   "cell_type": "code",
   "execution_count": 67,
   "metadata": {},
   "outputs": [],
   "source": [
    "# schema {\"name\", \"state\"}\n",
    "student1 = {\"name\":\"Heather\", \"state\": \"Texas\"}\n",
    "student2 = {\"name\":\"Thomas\", \"state\":\"California\"}\n",
    "student3 = {\"name\":\"Erica\", \"state\":\"California\"}\n",
    "student4 = {\"name\":\"Megan\", \"county\": \"Greater London\"}"
   ]
  },
  {
   "cell_type": "markdown",
   "metadata": {},
   "source": [
    "# How do we insert data? "
   ]
  },
  {
   "cell_type": "code",
   "execution_count": 71,
   "metadata": {},
   "outputs": [
    {
     "data": {
      "text/plain": [
       "<pymongo.results.InsertOneResult at 0x10f35a788>"
      ]
     },
     "execution_count": 71,
     "metadata": {},
     "output_type": "execute_result"
    }
   ],
   "source": [
    "students.insert_one(student4)"
   ]
  },
  {
   "cell_type": "markdown",
   "metadata": {},
   "source": [
    "# now let's check our dbs"
   ]
  },
  {
   "cell_type": "code",
   "execution_count": 19,
   "metadata": {},
   "outputs": [
    {
     "data": {
      "text/plain": [
       "['AprFT',\n",
       " 'admin',\n",
       " 'config',\n",
       " 'ebay',\n",
       " 'headstorm_client_db',\n",
       " 'local',\n",
       " 'music_tweets',\n",
       " 'new_db',\n",
       " 'tweets']"
      ]
     },
     "execution_count": 19,
     "metadata": {},
     "output_type": "execute_result"
    }
   ],
   "source": [
    "client.list_database_names()"
   ]
  },
  {
   "cell_type": "code",
   "execution_count": 20,
   "metadata": {},
   "outputs": [
    {
     "data": {
      "text/plain": [
       "['students']"
      ]
     },
     "execution_count": 20,
     "metadata": {},
     "output_type": "execute_result"
    }
   ],
   "source": [
    "client['AprFT'].list_collection_names()"
   ]
  },
  {
   "cell_type": "code",
   "execution_count": 72,
   "metadata": {},
   "outputs": [],
   "source": [
    "student_list = [{\"name\": \"leighanna\", \"state\": \"Michigan\"},\n",
    "                {\"name\": \"payson\", \"state\": \"Ohio\"},\n",
    "                {\"name\": \"edward\", \"province\": \"British Columbia\"}]"
   ]
  },
  {
   "cell_type": "code",
   "execution_count": 73,
   "metadata": {},
   "outputs": [
    {
     "data": {
      "text/plain": [
       "<pymongo.results.InsertManyResult at 0x10f37ba08>"
      ]
     },
     "execution_count": 73,
     "metadata": {},
     "output_type": "execute_result"
    }
   ],
   "source": [
    "students.insert_many(student_list)"
   ]
  },
  {
   "cell_type": "markdown",
   "metadata": {},
   "source": [
    "# After inserting some documents, let's look at them"
   ]
  },
  {
   "cell_type": "code",
   "execution_count": 28,
   "metadata": {},
   "outputs": [
    {
     "data": {
      "text/plain": [
       "7"
      ]
     },
     "execution_count": 28,
     "metadata": {},
     "output_type": "execute_result"
    }
   ],
   "source": [
    "# count the number of docs?\n",
    "import warnings\n",
    "warnings.filterwarnings('ignore')\n",
    "students.count()"
   ]
  },
  {
   "cell_type": "code",
   "execution_count": 74,
   "metadata": {},
   "outputs": [
    {
     "name": "stdout",
     "output_type": "stream",
     "text": [
      "{'_id': ObjectId('5ea9de25898be8b2d4711c89'), 'name': 'Jonny', 'county': None}\n",
      "{'_id': ObjectId('5ea9ded3898be8b2d4711c8a'), 'name': 'Heather', 'state': 'Texas'}\n",
      "{'_id': ObjectId('5ea9ded5898be8b2d4711c8b'), 'name': 'Thomas', 'state': 'California'}\n",
      "{'_id': ObjectId('5ea9ded7898be8b2d4711c8c'), 'name': 'Erica', 'state': 'California'}\n",
      "{'_id': ObjectId('5ea9ded9898be8b2d4711c8d'), 'name': 'Megan', 'county': 'Greater London'}\n",
      "{'_id': ObjectId('5ea9dedb898be8b2d4711c8e'), 'name': 'leighanna', 'state': 'Michigan'}\n",
      "{'_id': ObjectId('5ea9dedb898be8b2d4711c8f'), 'name': 'payson', 'state': 'Ohio'}\n",
      "{'_id': ObjectId('5ea9dedb898be8b2d4711c90'), 'name': 'edward', 'province': 'British Columbia'}\n"
     ]
    }
   ],
   "source": [
    "# let's do a select * from students\n",
    "for res in students.find(filter={}):\n",
    "    print(res)"
   ]
  },
  {
   "cell_type": "code",
   "execution_count": 31,
   "metadata": {},
   "outputs": [
    {
     "name": "stdout",
     "output_type": "stream",
     "text": [
      "{'_id': ObjectId('5ea9d772898be8b2d4711c87'), 'name': 'edward', 'province': 'British Columbia'}\n"
     ]
    }
   ],
   "source": [
    "# how do i find edward?\n",
    "\n",
    "for res in students.find(filter={\"name\":\"edward\"}):\n",
    "    print(res)"
   ]
  },
  {
   "cell_type": "code",
   "execution_count": 41,
   "metadata": {},
   "outputs": [
    {
     "name": "stdout",
     "output_type": "stream",
     "text": [
      "{'_id': ObjectId('5ea9d655898be8b2d4711c83'), 'name': 'Erica', 'state': 'California'}\n",
      "{'_id': ObjectId('5ea9d772898be8b2d4711c87'), 'name': 'edward', 'province': 'British Columbia'}\n"
     ]
    }
   ],
   "source": [
    "# how do i find all students whose or who's name begins with an 'e'?\n",
    "# SQL -> select * from students where name like 'e%';\n",
    "# Mongo -> {\"name\": \"$regex\": {\"^e\", \"$options\": \"i\"}}\n",
    "\n",
    "\n",
    "for res in students.find(filter={\"name\": {\"$regex\": \"^e\", \"$options\": \"i\"}}):\n",
    "    print(res)"
   ]
  },
  {
   "cell_type": "markdown",
   "metadata": {},
   "source": [
    "Why is this so complicated? \n",
    "* Because Mongo can contain any key, value pairs within 1 collection. "
   ]
  },
  {
   "cell_type": "code",
   "execution_count": 42,
   "metadata": {},
   "outputs": [
    {
     "data": {
      "text/plain": [
       "<pymongo.results.UpdateResult at 0x10f345288>"
      ]
     },
     "execution_count": 42,
     "metadata": {},
     "output_type": "execute_result"
    }
   ],
   "source": [
    "# let's convert Erica to erica\n",
    "students.update_one({\"name\": \"Erica\"}, {\"$set\": {\"name\": \"erica\"}})"
   ]
  },
  {
   "cell_type": "code",
   "execution_count": 43,
   "metadata": {},
   "outputs": [
    {
     "name": "stdout",
     "output_type": "stream",
     "text": [
      "{'_id': ObjectId('5ea9d61a898be8b2d4711c81'), 'name': 'Heather', 'state': 'Texas'}\n",
      "{'_id': ObjectId('5ea9d652898be8b2d4711c82'), 'name': 'Thomas', 'state': 'California'}\n",
      "{'_id': ObjectId('5ea9d655898be8b2d4711c83'), 'name': 'erica', 'state': 'California'}\n",
      "{'_id': ObjectId('5ea9d69c898be8b2d4711c84'), 'name': 'Megan', 'county': 'Greater London'}\n",
      "{'_id': ObjectId('5ea9d772898be8b2d4711c85'), 'name': 'leighanna', 'state': 'Michigan'}\n",
      "{'_id': ObjectId('5ea9d772898be8b2d4711c86'), 'name': 'payson', 'state': 'Ohio'}\n",
      "{'_id': ObjectId('5ea9d772898be8b2d4711c87'), 'name': 'edward', 'province': 'British Columbia'}\n"
     ]
    }
   ],
   "source": [
    "for res in students.find(filter={}):\n",
    "    print(res)"
   ]
  },
  {
   "cell_type": "code",
   "execution_count": 47,
   "metadata": {},
   "outputs": [
    {
     "data": {
      "text/plain": [
       "<pymongo.results.UpdateResult at 0x10f2c1dc8>"
      ]
     },
     "execution_count": 47,
     "metadata": {},
     "output_type": "execute_result"
    }
   ],
   "source": [
    "# let's update everyone to live in California\n",
    "\n",
    "students.update_many({\"state\": {\"$exists\": True}}, {\"$set\": {\"state\": \"California\"}})\n"
   ]
  },
  {
   "cell_type": "code",
   "execution_count": 48,
   "metadata": {},
   "outputs": [
    {
     "name": "stdout",
     "output_type": "stream",
     "text": [
      "{'_id': ObjectId('5ea9d61a898be8b2d4711c81'), 'name': 'Heather', 'state': 'California'}\n",
      "{'_id': ObjectId('5ea9d652898be8b2d4711c82'), 'name': 'Thomas', 'state': 'California'}\n",
      "{'_id': ObjectId('5ea9d655898be8b2d4711c83'), 'name': 'erica', 'state': 'California'}\n",
      "{'_id': ObjectId('5ea9d69c898be8b2d4711c84'), 'name': 'Megan', 'county': 'Greater London'}\n",
      "{'_id': ObjectId('5ea9d772898be8b2d4711c85'), 'name': 'leighanna', 'state': 'California'}\n",
      "{'_id': ObjectId('5ea9d772898be8b2d4711c86'), 'name': 'payson', 'state': 'California'}\n",
      "{'_id': ObjectId('5ea9d772898be8b2d4711c87'), 'name': 'edward', 'province': 'British Columbia'}\n"
     ]
    }
   ],
   "source": [
    "for res in students.find(filter={}):\n",
    "    print(res)"
   ]
  },
  {
   "cell_type": "code",
   "execution_count": 50,
   "metadata": {},
   "outputs": [
    {
     "data": {
      "text/plain": [
       "<pymongo.results.UpdateResult at 0x10f163508>"
      ]
     },
     "execution_count": 50,
     "metadata": {},
     "output_type": "execute_result"
    }
   ],
   "source": [
    "# move everyone to california that does not live in a US State\n",
    "students.update_many({\"state\": {\"$exists\": False}}, {\"$set\": {\"state\": \"California\"}})"
   ]
  },
  {
   "cell_type": "code",
   "execution_count": 51,
   "metadata": {},
   "outputs": [
    {
     "name": "stdout",
     "output_type": "stream",
     "text": [
      "{'_id': ObjectId('5ea9d61a898be8b2d4711c81'), 'name': 'Heather', 'state': 'California'}\n",
      "{'_id': ObjectId('5ea9d652898be8b2d4711c82'), 'name': 'Thomas', 'state': 'California'}\n",
      "{'_id': ObjectId('5ea9d655898be8b2d4711c83'), 'name': 'erica', 'state': 'California'}\n",
      "{'_id': ObjectId('5ea9d69c898be8b2d4711c84'), 'name': 'Megan', 'county': 'Greater London', 'state': 'California'}\n",
      "{'_id': ObjectId('5ea9d772898be8b2d4711c85'), 'name': 'leighanna', 'state': 'California'}\n",
      "{'_id': ObjectId('5ea9d772898be8b2d4711c86'), 'name': 'payson', 'state': 'California'}\n",
      "{'_id': ObjectId('5ea9d772898be8b2d4711c87'), 'name': 'edward', 'province': 'British Columbia', 'state': 'California'}\n"
     ]
    }
   ],
   "source": [
    "for res in students.find(filter={}):\n",
    "    print(res)"
   ]
  },
  {
   "cell_type": "code",
   "execution_count": 52,
   "metadata": {},
   "outputs": [
    {
     "data": {
      "text/plain": [
       "<pymongo.results.UpdateResult at 0x10f2ce408>"
      ]
     },
     "execution_count": 52,
     "metadata": {},
     "output_type": "execute_result"
    }
   ],
   "source": [
    "# mood column -> 'eager to learn'\n",
    "\n",
    "students.update_many({\"name\": {\"$exists\": True}}, {\"$set\": {\"mood\": \"excited to learn!\"}})"
   ]
  },
  {
   "cell_type": "code",
   "execution_count": 53,
   "metadata": {},
   "outputs": [
    {
     "name": "stdout",
     "output_type": "stream",
     "text": [
      "{'_id': ObjectId('5ea9d61a898be8b2d4711c81'), 'name': 'Heather', 'state': 'California', 'mood': 'excited to learn!'}\n",
      "{'_id': ObjectId('5ea9d652898be8b2d4711c82'), 'name': 'Thomas', 'state': 'California', 'mood': 'excited to learn!'}\n",
      "{'_id': ObjectId('5ea9d655898be8b2d4711c83'), 'name': 'erica', 'state': 'California', 'mood': 'excited to learn!'}\n",
      "{'_id': ObjectId('5ea9d69c898be8b2d4711c84'), 'name': 'Megan', 'county': 'Greater London', 'state': 'California', 'mood': 'excited to learn!'}\n",
      "{'_id': ObjectId('5ea9d772898be8b2d4711c85'), 'name': 'leighanna', 'state': 'California', 'mood': 'excited to learn!'}\n",
      "{'_id': ObjectId('5ea9d772898be8b2d4711c86'), 'name': 'payson', 'state': 'California', 'mood': 'excited to learn!'}\n",
      "{'_id': ObjectId('5ea9d772898be8b2d4711c87'), 'name': 'edward', 'province': 'British Columbia', 'state': 'California', 'mood': 'excited to learn!'}\n"
     ]
    }
   ],
   "source": [
    "for res in students.find(filter={}):\n",
    "    print(res)"
   ]
  },
  {
   "cell_type": "code",
   "execution_count": 54,
   "metadata": {},
   "outputs": [
    {
     "data": {
      "text/plain": [
       "<pymongo.results.DeleteResult at 0x10f1f5fc8>"
      ]
     },
     "execution_count": 54,
     "metadata": {},
     "output_type": "execute_result"
    }
   ],
   "source": [
    "students.delete_one(filter={\"name\": \"leighanna\"})"
   ]
  },
  {
   "cell_type": "code",
   "execution_count": 55,
   "metadata": {},
   "outputs": [
    {
     "name": "stdout",
     "output_type": "stream",
     "text": [
      "{'_id': ObjectId('5ea9d61a898be8b2d4711c81'), 'name': 'Heather', 'state': 'California', 'mood': 'excited to learn!'}\n",
      "{'_id': ObjectId('5ea9d652898be8b2d4711c82'), 'name': 'Thomas', 'state': 'California', 'mood': 'excited to learn!'}\n",
      "{'_id': ObjectId('5ea9d655898be8b2d4711c83'), 'name': 'erica', 'state': 'California', 'mood': 'excited to learn!'}\n",
      "{'_id': ObjectId('5ea9d69c898be8b2d4711c84'), 'name': 'Megan', 'county': 'Greater London', 'state': 'California', 'mood': 'excited to learn!'}\n",
      "{'_id': ObjectId('5ea9d772898be8b2d4711c86'), 'name': 'payson', 'state': 'California', 'mood': 'excited to learn!'}\n",
      "{'_id': ObjectId('5ea9d772898be8b2d4711c87'), 'name': 'edward', 'province': 'British Columbia', 'state': 'California', 'mood': 'excited to learn!'}\n"
     ]
    }
   ],
   "source": [
    "for res in students.find(filter={}):\n",
    "    print(res)"
   ]
  },
  {
   "cell_type": "code",
   "execution_count": 57,
   "metadata": {},
   "outputs": [
    {
     "data": {
      "text/plain": [
       "<pymongo.results.InsertOneResult at 0x10f4a7988>"
      ]
     },
     "execution_count": 57,
     "metadata": {},
     "output_type": "execute_result"
    }
   ],
   "source": [
    "students.insert_one({\"name\": \"Alex\", \"state\": \"California\"})"
   ]
  },
  {
   "cell_type": "code",
   "execution_count": 60,
   "metadata": {},
   "outputs": [
    {
     "data": {
      "text/plain": [
       "<pymongo.results.InsertOneResult at 0x10f46ce08>"
      ]
     },
     "execution_count": 60,
     "metadata": {},
     "output_type": "execute_result"
    }
   ],
   "source": [
    "students.insert_one({\"name\": \"Jonny\", \"county\": None})"
   ]
  },
  {
   "cell_type": "code",
   "execution_count": 65,
   "metadata": {},
   "outputs": [
    {
     "data": {
      "text/plain": [
       "<pymongo.results.DeleteResult at 0x10f2e9dc8>"
      ]
     },
     "execution_count": 65,
     "metadata": {},
     "output_type": "execute_result"
    }
   ],
   "source": [
    "students.delete_many({\"name\": {\"$regex\": \".*a.*\", \"$options\": \"i\"}})"
   ]
  },
  {
   "cell_type": "code",
   "execution_count": 80,
   "metadata": {},
   "outputs": [
    {
     "name": "stdout",
     "output_type": "stream",
     "text": [
      "{'_id': ObjectId('5ea9de25898be8b2d4711c89'), 'name': 'Jonny', 'county': None}\n",
      "{'_id': ObjectId('5ea9ded3898be8b2d4711c8a'), 'name': 'Heather', 'state': 'Texas'}\n",
      "{'_id': ObjectId('5ea9ded5898be8b2d4711c8b'), 'name': 'Thomas', 'state': 'California'}\n",
      "{'_id': ObjectId('5ea9ded7898be8b2d4711c8c'), 'name': 'Erica', 'state': 'California'}\n",
      "{'_id': ObjectId('5ea9ded9898be8b2d4711c8d'), 'name': 'Megan', 'county': 'Greater London'}\n",
      "{'_id': ObjectId('5ea9dedb898be8b2d4711c8e'), 'name': 'leighanna', 'state': 'Michigan'}\n",
      "{'_id': ObjectId('5ea9dedb898be8b2d4711c8f'), 'name': 'payson', 'state': 'Ohio'}\n",
      "{'_id': ObjectId('5ea9dedb898be8b2d4711c90'), 'name': 'edward', 'province': 'British Columbia'}\n"
     ]
    }
   ],
   "source": [
    "for res in students.find():\n",
    "    print(res)"
   ]
  },
  {
   "cell_type": "markdown",
   "metadata": {},
   "source": [
    "# How do we turn this into a dataframe?"
   ]
  },
  {
   "cell_type": "code",
   "execution_count": 75,
   "metadata": {},
   "outputs": [],
   "source": [
    "import pandas as pd"
   ]
  },
  {
   "cell_type": "code",
   "execution_count": 91,
   "metadata": {},
   "outputs": [
    {
     "data": {
      "text/html": [
       "<div>\n",
       "<style scoped>\n",
       "    .dataframe tbody tr th:only-of-type {\n",
       "        vertical-align: middle;\n",
       "    }\n",
       "\n",
       "    .dataframe tbody tr th {\n",
       "        vertical-align: top;\n",
       "    }\n",
       "\n",
       "    .dataframe thead th {\n",
       "        text-align: right;\n",
       "    }\n",
       "</style>\n",
       "<table border=\"1\" class=\"dataframe\">\n",
       "  <thead>\n",
       "    <tr style=\"text-align: right;\">\n",
       "      <th></th>\n",
       "      <th>_id</th>\n",
       "      <th>name</th>\n",
       "      <th>county</th>\n",
       "      <th>state</th>\n",
       "      <th>province</th>\n",
       "      <th>doc</th>\n",
       "    </tr>\n",
       "  </thead>\n",
       "  <tbody>\n",
       "    <tr>\n",
       "      <td>0</td>\n",
       "      <td>5ea9de25898be8b2d4711c89</td>\n",
       "      <td>Jonny</td>\n",
       "      <td>None</td>\n",
       "      <td>NaN</td>\n",
       "      <td>NaN</td>\n",
       "      <td>NaN</td>\n",
       "    </tr>\n",
       "    <tr>\n",
       "      <td>1</td>\n",
       "      <td>5ea9ded3898be8b2d4711c8a</td>\n",
       "      <td>Heather</td>\n",
       "      <td>NaN</td>\n",
       "      <td>Texas</td>\n",
       "      <td>NaN</td>\n",
       "      <td>NaN</td>\n",
       "    </tr>\n",
       "    <tr>\n",
       "      <td>2</td>\n",
       "      <td>5ea9ded5898be8b2d4711c8b</td>\n",
       "      <td>Thomas</td>\n",
       "      <td>NaN</td>\n",
       "      <td>California</td>\n",
       "      <td>NaN</td>\n",
       "      <td>NaN</td>\n",
       "    </tr>\n",
       "    <tr>\n",
       "      <td>3</td>\n",
       "      <td>5ea9ded7898be8b2d4711c8c</td>\n",
       "      <td>Erica</td>\n",
       "      <td>NaN</td>\n",
       "      <td>California</td>\n",
       "      <td>NaN</td>\n",
       "      <td>NaN</td>\n",
       "    </tr>\n",
       "    <tr>\n",
       "      <td>4</td>\n",
       "      <td>5ea9ded9898be8b2d4711c8d</td>\n",
       "      <td>Megan</td>\n",
       "      <td>Greater London</td>\n",
       "      <td>NaN</td>\n",
       "      <td>NaN</td>\n",
       "      <td>NaN</td>\n",
       "    </tr>\n",
       "    <tr>\n",
       "      <td>5</td>\n",
       "      <td>5ea9dedb898be8b2d4711c8e</td>\n",
       "      <td>leighanna</td>\n",
       "      <td>NaN</td>\n",
       "      <td>Michigan</td>\n",
       "      <td>NaN</td>\n",
       "      <td>NaN</td>\n",
       "    </tr>\n",
       "    <tr>\n",
       "      <td>6</td>\n",
       "      <td>5ea9dedb898be8b2d4711c8f</td>\n",
       "      <td>payson</td>\n",
       "      <td>NaN</td>\n",
       "      <td>Ohio</td>\n",
       "      <td>NaN</td>\n",
       "      <td>NaN</td>\n",
       "    </tr>\n",
       "    <tr>\n",
       "      <td>7</td>\n",
       "      <td>5ea9dedb898be8b2d4711c90</td>\n",
       "      <td>edward</td>\n",
       "      <td>NaN</td>\n",
       "      <td>NaN</td>\n",
       "      <td>British Columbia</td>\n",
       "      <td>NaN</td>\n",
       "    </tr>\n",
       "    <tr>\n",
       "      <td>8</td>\n",
       "      <td>5ea9e081898be8b2d4711c91</td>\n",
       "      <td>32</td>\n",
       "      <td>NaN</td>\n",
       "      <td>NaN</td>\n",
       "      <td>NaN</td>\n",
       "      <td>NaN</td>\n",
       "    </tr>\n",
       "    <tr>\n",
       "      <td>9</td>\n",
       "      <td>5ea9e0a7898be8b2d4711c92</td>\n",
       "      <td>{'name': 32}</td>\n",
       "      <td>NaN</td>\n",
       "      <td>NaN</td>\n",
       "      <td>NaN</td>\n",
       "      <td>NaN</td>\n",
       "    </tr>\n",
       "    <tr>\n",
       "      <td>10</td>\n",
       "      <td>5ea9e12e898be8b2d4711c93</td>\n",
       "      <td>NaN</td>\n",
       "      <td>NaN</td>\n",
       "      <td>NaN</td>\n",
       "      <td>NaN</td>\n",
       "      <td>[{'name': 'Jonny', 'county': None}, {'name': '...</td>\n",
       "    </tr>\n",
       "  </tbody>\n",
       "</table>\n",
       "</div>"
      ],
      "text/plain": [
       "                         _id          name          county       state  \\\n",
       "0   5ea9de25898be8b2d4711c89         Jonny            None         NaN   \n",
       "1   5ea9ded3898be8b2d4711c8a       Heather             NaN       Texas   \n",
       "2   5ea9ded5898be8b2d4711c8b        Thomas             NaN  California   \n",
       "3   5ea9ded7898be8b2d4711c8c         Erica             NaN  California   \n",
       "4   5ea9ded9898be8b2d4711c8d         Megan  Greater London         NaN   \n",
       "5   5ea9dedb898be8b2d4711c8e     leighanna             NaN    Michigan   \n",
       "6   5ea9dedb898be8b2d4711c8f        payson             NaN        Ohio   \n",
       "7   5ea9dedb898be8b2d4711c90        edward             NaN         NaN   \n",
       "8   5ea9e081898be8b2d4711c91            32             NaN         NaN   \n",
       "9   5ea9e0a7898be8b2d4711c92  {'name': 32}             NaN         NaN   \n",
       "10  5ea9e12e898be8b2d4711c93           NaN             NaN         NaN   \n",
       "\n",
       "            province                                                doc  \n",
       "0                NaN                                                NaN  \n",
       "1                NaN                                                NaN  \n",
       "2                NaN                                                NaN  \n",
       "3                NaN                                                NaN  \n",
       "4                NaN                                                NaN  \n",
       "5                NaN                                                NaN  \n",
       "6                NaN                                                NaN  \n",
       "7   British Columbia                                                NaN  \n",
       "8                NaN                                                NaN  \n",
       "9                NaN                                                NaN  \n",
       "10               NaN  [{'name': 'Jonny', 'county': None}, {'name': '...  "
      ]
     },
     "execution_count": 91,
     "metadata": {},
     "output_type": "execute_result"
    }
   ],
   "source": [
    "df = pd.DataFrame(students.find(filter={}))\n",
    "df"
   ]
  },
  {
   "cell_type": "code",
   "execution_count": 90,
   "metadata": {},
   "outputs": [
    {
     "data": {
      "text/plain": [
       "<pymongo.results.InsertOneResult at 0x120877a88>"
      ]
     },
     "execution_count": 90,
     "metadata": {},
     "output_type": "execute_result"
    }
   ],
   "source": [
    "students.insert_one({\"doc\": [{'name': 'Jonny', 'county': None},\n",
    "{'name': 'Heather', 'state': 'Texas'},\n",
    "{'name': 'Thomas', 'state': 'California'},\n",
    "{'name': 'Erica', 'state': 'California'},\n",
    "{'name': 'Megan', 'county': 'Greater London'},\n",
    "{'name': 'leighanna', 'state': 'Michigan'},\n",
    "{'name': 'payson', 'state': 'Ohio'},\n",
    "{'name': 'edward', 'province': 'British Columbia'}]})"
   ]
  },
  {
   "cell_type": "code",
   "execution_count": 82,
   "metadata": {},
   "outputs": [
    {
     "data": {
      "text/plain": [
       "<pymongo.results.InsertOneResult at 0x1206bc948>"
      ]
     },
     "execution_count": 82,
     "metadata": {},
     "output_type": "execute_result"
    }
   ],
   "source": [
    "students.insert_one({\"name\": 32})"
   ]
  },
  {
   "cell_type": "code",
   "execution_count": 84,
   "metadata": {},
   "outputs": [
    {
     "data": {
      "text/plain": [
       "<pymongo.results.InsertOneResult at 0x1206d1188>"
      ]
     },
     "execution_count": 84,
     "metadata": {},
     "output_type": "execute_result"
    }
   ],
   "source": [
    "students.insert_one({\"name\": {\"name\": 32}})"
   ]
  },
  {
   "cell_type": "code",
   "execution_count": null,
   "metadata": {},
   "outputs": [],
   "source": []
  },
  {
   "cell_type": "code",
   "execution_count": null,
   "metadata": {},
   "outputs": [],
   "source": []
  },
  {
   "cell_type": "code",
   "execution_count": 4,
   "metadata": {},
   "outputs": [],
   "source": [
    "tweets_db = client['tweets']"
   ]
  },
  {
   "cell_type": "code",
   "execution_count": 5,
   "metadata": {},
   "outputs": [
    {
     "data": {
      "text/plain": [
       "['facebook_tweets',\n",
       " 'got_collection',\n",
       " 'queer_eye_kanye_tweets',\n",
       " 'python',\n",
       " 'dating_tweets',\n",
       " 'lilNasX',\n",
       " 'finals_2019',\n",
       " 'general',\n",
       " 'donald_tweets']"
      ]
     },
     "execution_count": 5,
     "metadata": {},
     "output_type": "execute_result"
    }
   ],
   "source": [
    "tweets_db.list_collection_names()"
   ]
  },
  {
   "cell_type": "markdown",
   "metadata": {},
   "source": [
    "# Let's delete the current 'new_db'\n"
   ]
  },
  {
   "cell_type": "code",
   "execution_count": 6,
   "metadata": {},
   "outputs": [
    {
     "name": "stdout",
     "output_type": "stream",
     "text": [
      "['admin', 'config', 'ebay', 'headstorm_client_db', 'local', 'music_tweets', 'new_db', 'tweets']\n",
      "['admin', 'config', 'ebay', 'headstorm_client_db', 'local', 'music_tweets', 'tweets']\n"
     ]
    }
   ],
   "source": [
    "# your MongoClient object does db stuff\n",
    "print(client.list_database_names())\n",
    "client.drop_database('new_db')\n",
    "print(client.list_database_names())"
   ]
  },
  {
   "cell_type": "markdown",
   "metadata": {},
   "source": [
    "# Let's recreate it and use it in our study group! :) "
   ]
  },
  {
   "cell_type": "code",
   "execution_count": 7,
   "metadata": {},
   "outputs": [],
   "source": [
    "new_db = client['new_db']"
   ]
  },
  {
   "cell_type": "code",
   "execution_count": 8,
   "metadata": {},
   "outputs": [
    {
     "data": {
      "text/plain": [
       "['admin',\n",
       " 'config',\n",
       " 'ebay',\n",
       " 'headstorm_client_db',\n",
       " 'local',\n",
       " 'music_tweets',\n",
       " 'tweets']"
      ]
     },
     "execution_count": 8,
     "metadata": {},
     "output_type": "execute_result"
    }
   ],
   "source": [
    "# let's see if we created our new_db successfully! \n",
    "\n",
    "client.list_database_names()"
   ]
  },
  {
   "cell_type": "code",
   "execution_count": 9,
   "metadata": {},
   "outputs": [],
   "source": [
    "student_collection = new_db['student_collection']"
   ]
  },
  {
   "cell_type": "code",
   "execution_count": 10,
   "metadata": {},
   "outputs": [
    {
     "data": {
      "text/plain": [
       "['admin',\n",
       " 'config',\n",
       " 'ebay',\n",
       " 'headstorm_client_db',\n",
       " 'local',\n",
       " 'music_tweets',\n",
       " 'tweets']"
      ]
     },
     "execution_count": 10,
     "metadata": {},
     "output_type": "execute_result"
    }
   ],
   "source": [
    "client.list_database_names()"
   ]
  },
  {
   "cell_type": "code",
   "execution_count": 11,
   "metadata": {},
   "outputs": [],
   "source": [
    "maria = {\"name\": \"maria\", \"state\": \"california\", \"favorite_tv_show\": \"greys anatomy\"}"
   ]
  },
  {
   "cell_type": "code",
   "execution_count": 12,
   "metadata": {},
   "outputs": [
    {
     "data": {
      "text/plain": [
       "{'name': 'maria', 'state': 'california', 'favorite_tv_show': 'greys anatomy'}"
      ]
     },
     "execution_count": 12,
     "metadata": {},
     "output_type": "execute_result"
    }
   ],
   "source": [
    "maria"
   ]
  },
  {
   "cell_type": "code",
   "execution_count": 13,
   "metadata": {},
   "outputs": [
    {
     "data": {
      "text/plain": [
       "<pymongo.results.InsertOneResult at 0x1a2794f0c8>"
      ]
     },
     "execution_count": 13,
     "metadata": {},
     "output_type": "execute_result"
    }
   ],
   "source": [
    "student_collection.insert_one(maria)"
   ]
  },
  {
   "cell_type": "code",
   "execution_count": 14,
   "metadata": {},
   "outputs": [
    {
     "data": {
      "text/plain": [
       "['admin',\n",
       " 'config',\n",
       " 'ebay',\n",
       " 'headstorm_client_db',\n",
       " 'local',\n",
       " 'music_tweets',\n",
       " 'new_db',\n",
       " 'tweets']"
      ]
     },
     "execution_count": 14,
     "metadata": {},
     "output_type": "execute_result"
    }
   ],
   "source": [
    "client.list_database_names()"
   ]
  },
  {
   "cell_type": "code",
   "execution_count": 15,
   "metadata": {},
   "outputs": [],
   "source": [
    "# you have to add a document to a collection in a new_db in order for the new_db to get written into memory\n",
    "\n"
   ]
  },
  {
   "cell_type": "code",
   "execution_count": 38,
   "metadata": {},
   "outputs": [],
   "source": [
    "andy = {\"name\": \"andy\", \"state\": \"new york\", \"favorite_tv_show\": \"game of thrones\"}\n",
    "forest = {\"name\": \"forest\", \"state\": \"hawaii\", \"favorite_tv_show\": \"rick and morty\"}\n",
    "shirl = {\"name\": \"shirl\", \"state\": \"georgia\", \"favorite_tv_show\": \"criminal minds\"}\n",
    "leighanna = {\"name\": \"leighanna\", \"state\": \"florida\", \"favorite_tv_show\": \"american horror story\"}\n",
    "kelvin = {\"name\": \"kelvin\", \"state\": \"florida\", \"favorite_tv_show\": \"the witcher\"}\n",
    "jamel = {\"name\": \"jamel\", \"state\": None, \"favorite_tv_show\": \":)\"}"
   ]
  },
  {
   "cell_type": "code",
   "execution_count": 39,
   "metadata": {},
   "outputs": [
    {
     "data": {
      "text/plain": [
       "[{'name': 'andy', 'state': 'new york', 'favorite_tv_show': 'game of thrones'},\n",
       " {'name': 'forest', 'state': 'hawaii', 'favorite_tv_show': 'rick and morty'},\n",
       " {'name': 'shirl', 'state': 'georgia', 'favorite_tv_show': 'criminal minds'},\n",
       " {'name': 'leighanna',\n",
       "  'state': 'florida',\n",
       "  'favorite_tv_show': 'american horror story'},\n",
       " {'name': 'kelvin', 'state': 'florida', 'favorite_tv_show': 'the witcher'},\n",
       " {'name': 'jamel', 'state': None, 'favorite_tv_show': ':)'}]"
      ]
     },
     "execution_count": 39,
     "metadata": {},
     "output_type": "execute_result"
    }
   ],
   "source": [
    "lst = [andy, forest, shirl, leighanna, kelvin, jamel]\n",
    "lst"
   ]
  },
  {
   "cell_type": "code",
   "execution_count": 19,
   "metadata": {},
   "outputs": [
    {
     "data": {
      "text/plain": [
       "<pymongo.results.InsertManyResult at 0x1a2726cf48>"
      ]
     },
     "execution_count": 19,
     "metadata": {},
     "output_type": "execute_result"
    }
   ],
   "source": [
    "student_collection.insert_many(lst)"
   ]
  },
  {
   "cell_type": "code",
   "execution_count": 23,
   "metadata": {},
   "outputs": [
    {
     "name": "stderr",
     "output_type": "stream",
     "text": [
      "/Users/rafael/anaconda3/envs/flatiron-env/lib/python3.6/site-packages/ipykernel_launcher.py:1: DeprecationWarning: count is deprecated. Use estimated_document_count or count_documents instead. Please note that $where must be replaced by $expr, $near must be replaced by $geoWithin with $center, and $nearSphere must be replaced by $geoWithin with $centerSphere\n",
      "  \"\"\"Entry point for launching an IPython kernel.\n"
     ]
    },
    {
     "data": {
      "text/plain": [
       "7"
      ]
     },
     "execution_count": 23,
     "metadata": {},
     "output_type": "execute_result"
    }
   ],
   "source": [
    "student_collection.count()"
   ]
  },
  {
   "cell_type": "code",
   "execution_count": 33,
   "metadata": {},
   "outputs": [
    {
     "data": {
      "text/plain": [
       "[{'_id': ObjectId('5e163fc149d25d1b4651bfcb'),\n",
       "  'name': 'leighanna',\n",
       "  'state': 'florida',\n",
       "  'favorite_tv_show': 'american horror story'},\n",
       " {'_id': ObjectId('5e163fc149d25d1b4651bfcc'),\n",
       "  'name': 'kelvin',\n",
       "  'state': 'florida',\n",
       "  'favorite_tv_show': 'the witcher'}]"
      ]
     },
     "execution_count": 33,
     "metadata": {},
     "output_type": "execute_result"
    }
   ],
   "source": [
    "list(student_collection.find({\"state\": \"florida\"}))"
   ]
  },
  {
   "cell_type": "code",
   "execution_count": 34,
   "metadata": {},
   "outputs": [
    {
     "name": "stdout",
     "output_type": "stream",
     "text": [
      "{'_id': ObjectId('5e163fc149d25d1b4651bfcb'), 'name': 'leighanna', 'state': 'florida', 'favorite_tv_show': 'american horror story'}\n",
      "{'_id': ObjectId('5e163fc149d25d1b4651bfcc'), 'name': 'kelvin', 'state': 'florida', 'favorite_tv_show': 'the witcher'}\n"
     ]
    }
   ],
   "source": [
    "for florida_student in student_collection.find({\"state\": \"florida\"}):\n",
    "    print(florida_student)"
   ]
  },
  {
   "cell_type": "markdown",
   "metadata": {},
   "source": [
    "# Let's load in our students into a dataframe\n"
   ]
  },
  {
   "cell_type": "code",
   "execution_count": 40,
   "metadata": {},
   "outputs": [
    {
     "data": {
      "text/html": [
       "<div>\n",
       "<style scoped>\n",
       "    .dataframe tbody tr th:only-of-type {\n",
       "        vertical-align: middle;\n",
       "    }\n",
       "\n",
       "    .dataframe tbody tr th {\n",
       "        vertical-align: top;\n",
       "    }\n",
       "\n",
       "    .dataframe thead th {\n",
       "        text-align: right;\n",
       "    }\n",
       "</style>\n",
       "<table border=\"1\" class=\"dataframe\">\n",
       "  <thead>\n",
       "    <tr style=\"text-align: right;\">\n",
       "      <th></th>\n",
       "      <th>name</th>\n",
       "      <th>state</th>\n",
       "      <th>favorite_tv_show</th>\n",
       "    </tr>\n",
       "  </thead>\n",
       "  <tbody>\n",
       "    <tr>\n",
       "      <td>0</td>\n",
       "      <td>andy</td>\n",
       "      <td>new york</td>\n",
       "      <td>game of thrones</td>\n",
       "    </tr>\n",
       "    <tr>\n",
       "      <td>1</td>\n",
       "      <td>forest</td>\n",
       "      <td>hawaii</td>\n",
       "      <td>rick and morty</td>\n",
       "    </tr>\n",
       "    <tr>\n",
       "      <td>2</td>\n",
       "      <td>shirl</td>\n",
       "      <td>georgia</td>\n",
       "      <td>criminal minds</td>\n",
       "    </tr>\n",
       "    <tr>\n",
       "      <td>3</td>\n",
       "      <td>leighanna</td>\n",
       "      <td>florida</td>\n",
       "      <td>american horror story</td>\n",
       "    </tr>\n",
       "    <tr>\n",
       "      <td>4</td>\n",
       "      <td>kelvin</td>\n",
       "      <td>florida</td>\n",
       "      <td>the witcher</td>\n",
       "    </tr>\n",
       "    <tr>\n",
       "      <td>5</td>\n",
       "      <td>jamel</td>\n",
       "      <td>None</td>\n",
       "      <td>:)</td>\n",
       "    </tr>\n",
       "  </tbody>\n",
       "</table>\n",
       "</div>"
      ],
      "text/plain": [
       "        name     state       favorite_tv_show\n",
       "0       andy  new york        game of thrones\n",
       "1     forest    hawaii         rick and morty\n",
       "2      shirl   georgia         criminal minds\n",
       "3  leighanna   florida  american horror story\n",
       "4     kelvin   florida            the witcher\n",
       "5      jamel      None                     :)"
      ]
     },
     "execution_count": 40,
     "metadata": {},
     "output_type": "execute_result"
    }
   ],
   "source": [
    "df = pd.DataFrame(lst)\n",
    "df"
   ]
  },
  {
   "cell_type": "code",
   "execution_count": 44,
   "metadata": {},
   "outputs": [
    {
     "data": {
      "text/html": [
       "<div>\n",
       "<style scoped>\n",
       "    .dataframe tbody tr th:only-of-type {\n",
       "        vertical-align: middle;\n",
       "    }\n",
       "\n",
       "    .dataframe tbody tr th {\n",
       "        vertical-align: top;\n",
       "    }\n",
       "\n",
       "    .dataframe thead th {\n",
       "        text-align: right;\n",
       "    }\n",
       "</style>\n",
       "<table border=\"1\" class=\"dataframe\">\n",
       "  <thead>\n",
       "    <tr style=\"text-align: right;\">\n",
       "      <th></th>\n",
       "      <th>_id</th>\n",
       "      <th>name</th>\n",
       "      <th>state</th>\n",
       "      <th>favorite_tv_show</th>\n",
       "    </tr>\n",
       "  </thead>\n",
       "  <tbody>\n",
       "    <tr>\n",
       "      <td>0</td>\n",
       "      <td>5e163e3149d25d1b4651bfc7</td>\n",
       "      <td>maria</td>\n",
       "      <td>california</td>\n",
       "      <td>greys anatomy</td>\n",
       "    </tr>\n",
       "    <tr>\n",
       "      <td>1</td>\n",
       "      <td>5e163fc149d25d1b4651bfc8</td>\n",
       "      <td>andy</td>\n",
       "      <td>new york</td>\n",
       "      <td>game of thrones</td>\n",
       "    </tr>\n",
       "    <tr>\n",
       "      <td>2</td>\n",
       "      <td>5e163fc149d25d1b4651bfc9</td>\n",
       "      <td>forest</td>\n",
       "      <td>hawaii</td>\n",
       "      <td>rick and morty</td>\n",
       "    </tr>\n",
       "    <tr>\n",
       "      <td>3</td>\n",
       "      <td>5e163fc149d25d1b4651bfca</td>\n",
       "      <td>shirl</td>\n",
       "      <td>georgia</td>\n",
       "      <td>criminal minds</td>\n",
       "    </tr>\n",
       "    <tr>\n",
       "      <td>4</td>\n",
       "      <td>5e163fc149d25d1b4651bfcb</td>\n",
       "      <td>leighanna</td>\n",
       "      <td>florida</td>\n",
       "      <td>american horror story</td>\n",
       "    </tr>\n",
       "    <tr>\n",
       "      <td>5</td>\n",
       "      <td>5e163fc149d25d1b4651bfcc</td>\n",
       "      <td>kelvin</td>\n",
       "      <td>florida</td>\n",
       "      <td>the witcher</td>\n",
       "    </tr>\n",
       "    <tr>\n",
       "      <td>6</td>\n",
       "      <td>5e163fc149d25d1b4651bfcd</td>\n",
       "      <td>jamel</td>\n",
       "      <td>None</td>\n",
       "      <td>:)</td>\n",
       "    </tr>\n",
       "  </tbody>\n",
       "</table>\n",
       "</div>"
      ],
      "text/plain": [
       "                        _id       name       state       favorite_tv_show\n",
       "0  5e163e3149d25d1b4651bfc7      maria  california          greys anatomy\n",
       "1  5e163fc149d25d1b4651bfc8       andy    new york        game of thrones\n",
       "2  5e163fc149d25d1b4651bfc9     forest      hawaii         rick and morty\n",
       "3  5e163fc149d25d1b4651bfca      shirl     georgia         criminal minds\n",
       "4  5e163fc149d25d1b4651bfcb  leighanna     florida  american horror story\n",
       "5  5e163fc149d25d1b4651bfcc     kelvin     florida            the witcher\n",
       "6  5e163fc149d25d1b4651bfcd      jamel        None                     :)"
      ]
     },
     "execution_count": 44,
     "metadata": {},
     "output_type": "execute_result"
    }
   ],
   "source": [
    "df = pd.DataFrame(list(student_collection.find()))\n",
    "df"
   ]
  },
  {
   "cell_type": "markdown",
   "metadata": {},
   "source": [
    "### Let's insert date using an API"
   ]
  },
  {
   "cell_type": "code",
   "execution_count": 50,
   "metadata": {},
   "outputs": [
    {
     "name": "stdout",
     "output_type": "stream",
     "text": [
      "dict_keys(['consumer_key', 'consumer_secret', 'access_token', 'access_token_secret'])\n"
     ]
    }
   ],
   "source": [
    "with open(\"/Users/rafael/.ssh/twitter_app00.json\") as f: # with will close the file after you exit the process\n",
    "    d = json.load(f) # d is going to be a \n",
    "print(d.keys())"
   ]
  },
  {
   "cell_type": "markdown",
   "metadata": {},
   "source": [
    "# Let's start a twitter client"
   ]
  },
  {
   "cell_type": "code",
   "execution_count": 51,
   "metadata": {},
   "outputs": [],
   "source": [
    "oauth = tweepy.OAuthHandler(consumer_key = d[\"consumer_key\"], consumer_secret = d[\"consumer_secret\"])"
   ]
  },
  {
   "cell_type": "code",
   "execution_count": 53,
   "metadata": {},
   "outputs": [],
   "source": [
    "oauth.set_access_token(key=d[\"access_token\"], secret=d[\"access_token_secret\"])"
   ]
  },
  {
   "cell_type": "code",
   "execution_count": 54,
   "metadata": {},
   "outputs": [],
   "source": [
    "api = tweepy.API(auth_handler=oauth)"
   ]
  },
  {
   "cell_type": "code",
   "execution_count": 58,
   "metadata": {},
   "outputs": [],
   "source": [
    "barkpark_collection = new_db['barkpark']\n",
    "\n",
    "for tw in api.search(\"#barkparkupdates\"):\n",
    "    barkpark_collection.insert_one(tw._json) # insert these tweets into mongodb"
   ]
  },
  {
   "cell_type": "code",
   "execution_count": 59,
   "metadata": {},
   "outputs": [
    {
     "data": {
      "text/plain": [
       "[{'_id': ObjectId('5e16454249d25d1b4651bfce'),\n",
       "  'created_at': 'Wed Jan 08 13:37:02 +0000 2020',\n",
       "  'id': 1214903842808246272,\n",
       "  'id_str': '1214903842808246272',\n",
       "  'text': '#barkparkupdates Wednesday January 8- nice frozen trails. https://t.co/OwVh6NkK6u',\n",
       "  'truncated': False,\n",
       "  'entities': {'hashtags': [{'text': 'barkparkupdates', 'indices': [0, 16]}],\n",
       "   'symbols': [],\n",
       "   'user_mentions': [],\n",
       "   'urls': [],\n",
       "   'media': [{'id': 1214903835040395264,\n",
       "     'id_str': '1214903835040395264',\n",
       "     'indices': [58, 81],\n",
       "     'media_url': 'http://pbs.twimg.com/media/ENw0mePXsAAcGc9.jpg',\n",
       "     'media_url_https': 'https://pbs.twimg.com/media/ENw0mePXsAAcGc9.jpg',\n",
       "     'url': 'https://t.co/OwVh6NkK6u',\n",
       "     'display_url': 'pic.twitter.com/OwVh6NkK6u',\n",
       "     'expanded_url': 'https://twitter.com/LKthedog/status/1214903842808246272/photo/1',\n",
       "     'type': 'photo',\n",
       "     'sizes': {'thumb': {'w': 150, 'h': 150, 'resize': 'crop'},\n",
       "      'small': {'w': 510, 'h': 680, 'resize': 'fit'},\n",
       "      'medium': {'w': 900, 'h': 1200, 'resize': 'fit'},\n",
       "      'large': {'w': 1536, 'h': 2048, 'resize': 'fit'}}}]},\n",
       "  'extended_entities': {'media': [{'id': 1214903835040395264,\n",
       "     'id_str': '1214903835040395264',\n",
       "     'indices': [58, 81],\n",
       "     'media_url': 'http://pbs.twimg.com/media/ENw0mePXsAAcGc9.jpg',\n",
       "     'media_url_https': 'https://pbs.twimg.com/media/ENw0mePXsAAcGc9.jpg',\n",
       "     'url': 'https://t.co/OwVh6NkK6u',\n",
       "     'display_url': 'pic.twitter.com/OwVh6NkK6u',\n",
       "     'expanded_url': 'https://twitter.com/LKthedog/status/1214903842808246272/photo/1',\n",
       "     'type': 'photo',\n",
       "     'sizes': {'thumb': {'w': 150, 'h': 150, 'resize': 'crop'},\n",
       "      'small': {'w': 510, 'h': 680, 'resize': 'fit'},\n",
       "      'medium': {'w': 900, 'h': 1200, 'resize': 'fit'},\n",
       "      'large': {'w': 1536, 'h': 2048, 'resize': 'fit'}}}]},\n",
       "  'metadata': {'iso_language_code': 'en', 'result_type': 'recent'},\n",
       "  'source': '<a href=\"http://twitter.com/download/iphone\" rel=\"nofollow\">Twitter for iPhone</a>',\n",
       "  'in_reply_to_status_id': None,\n",
       "  'in_reply_to_status_id_str': None,\n",
       "  'in_reply_to_user_id': None,\n",
       "  'in_reply_to_user_id_str': None,\n",
       "  'in_reply_to_screen_name': None,\n",
       "  'user': {'id': 1096617690133860352,\n",
       "   'id_str': '1096617690133860352',\n",
       "   'name': 'Lazlo the dog',\n",
       "   'screen_name': 'LKthedog',\n",
       "   'location': 'Tonawanda, NY',\n",
       "   'description': \"Just a dog(the best dog,I'm told)\",\n",
       "   'url': None,\n",
       "   'entities': {'description': {'urls': []}},\n",
       "   'protected': False,\n",
       "   'followers_count': 17,\n",
       "   'friends_count': 16,\n",
       "   'listed_count': 0,\n",
       "   'created_at': 'Sat Feb 16 03:50:06 +0000 2019',\n",
       "   'favourites_count': 145,\n",
       "   'utc_offset': None,\n",
       "   'time_zone': None,\n",
       "   'geo_enabled': False,\n",
       "   'verified': False,\n",
       "   'statuses_count': 82,\n",
       "   'lang': None,\n",
       "   'contributors_enabled': False,\n",
       "   'is_translator': False,\n",
       "   'is_translation_enabled': False,\n",
       "   'profile_background_color': 'F5F8FA',\n",
       "   'profile_background_image_url': None,\n",
       "   'profile_background_image_url_https': None,\n",
       "   'profile_background_tile': False,\n",
       "   'profile_image_url': 'http://pbs.twimg.com/profile_images/1096622575466266624/EZP-IHXH_normal.jpg',\n",
       "   'profile_image_url_https': 'https://pbs.twimg.com/profile_images/1096622575466266624/EZP-IHXH_normal.jpg',\n",
       "   'profile_banner_url': 'https://pbs.twimg.com/profile_banners/1096617690133860352/1550290173',\n",
       "   'profile_link_color': '1DA1F2',\n",
       "   'profile_sidebar_border_color': 'C0DEED',\n",
       "   'profile_sidebar_fill_color': 'DDEEF6',\n",
       "   'profile_text_color': '333333',\n",
       "   'profile_use_background_image': True,\n",
       "   'has_extended_profile': False,\n",
       "   'default_profile': True,\n",
       "   'default_profile_image': False,\n",
       "   'following': False,\n",
       "   'follow_request_sent': False,\n",
       "   'notifications': False,\n",
       "   'translator_type': 'none'},\n",
       "  'geo': None,\n",
       "  'coordinates': None,\n",
       "  'place': None,\n",
       "  'contributors': None,\n",
       "  'is_quote_status': False,\n",
       "  'retweet_count': 0,\n",
       "  'favorite_count': 1,\n",
       "  'favorited': False,\n",
       "  'retweeted': False,\n",
       "  'possibly_sensitive': False,\n",
       "  'lang': 'en'},\n",
       " {'_id': ObjectId('5e16454249d25d1b4651bfcf'),\n",
       "  'created_at': 'Tue Jan 07 13:31:55 +0000 2020',\n",
       "  'id': 1214540166989320193,\n",
       "  'id_str': '1214540166989320193',\n",
       "  'text': '#barkparkupdates Tuesday January 7- nice frozen trails. Bridge is crunchy icy be careful walking. Come early if you can.',\n",
       "  'truncated': False,\n",
       "  'entities': {'hashtags': [{'text': 'barkparkupdates', 'indices': [0, 16]}],\n",
       "   'symbols': [],\n",
       "   'user_mentions': [],\n",
       "   'urls': []},\n",
       "  'metadata': {'iso_language_code': 'en', 'result_type': 'recent'},\n",
       "  'source': '<a href=\"http://twitter.com/download/iphone\" rel=\"nofollow\">Twitter for iPhone</a>',\n",
       "  'in_reply_to_status_id': None,\n",
       "  'in_reply_to_status_id_str': None,\n",
       "  'in_reply_to_user_id': None,\n",
       "  'in_reply_to_user_id_str': None,\n",
       "  'in_reply_to_screen_name': None,\n",
       "  'user': {'id': 1096617690133860352,\n",
       "   'id_str': '1096617690133860352',\n",
       "   'name': 'Lazlo the dog',\n",
       "   'screen_name': 'LKthedog',\n",
       "   'location': 'Tonawanda, NY',\n",
       "   'description': \"Just a dog(the best dog,I'm told)\",\n",
       "   'url': None,\n",
       "   'entities': {'description': {'urls': []}},\n",
       "   'protected': False,\n",
       "   'followers_count': 17,\n",
       "   'friends_count': 16,\n",
       "   'listed_count': 0,\n",
       "   'created_at': 'Sat Feb 16 03:50:06 +0000 2019',\n",
       "   'favourites_count': 145,\n",
       "   'utc_offset': None,\n",
       "   'time_zone': None,\n",
       "   'geo_enabled': False,\n",
       "   'verified': False,\n",
       "   'statuses_count': 82,\n",
       "   'lang': None,\n",
       "   'contributors_enabled': False,\n",
       "   'is_translator': False,\n",
       "   'is_translation_enabled': False,\n",
       "   'profile_background_color': 'F5F8FA',\n",
       "   'profile_background_image_url': None,\n",
       "   'profile_background_image_url_https': None,\n",
       "   'profile_background_tile': False,\n",
       "   'profile_image_url': 'http://pbs.twimg.com/profile_images/1096622575466266624/EZP-IHXH_normal.jpg',\n",
       "   'profile_image_url_https': 'https://pbs.twimg.com/profile_images/1096622575466266624/EZP-IHXH_normal.jpg',\n",
       "   'profile_banner_url': 'https://pbs.twimg.com/profile_banners/1096617690133860352/1550290173',\n",
       "   'profile_link_color': '1DA1F2',\n",
       "   'profile_sidebar_border_color': 'C0DEED',\n",
       "   'profile_sidebar_fill_color': 'DDEEF6',\n",
       "   'profile_text_color': '333333',\n",
       "   'profile_use_background_image': True,\n",
       "   'has_extended_profile': False,\n",
       "   'default_profile': True,\n",
       "   'default_profile_image': False,\n",
       "   'following': False,\n",
       "   'follow_request_sent': False,\n",
       "   'notifications': False,\n",
       "   'translator_type': 'none'},\n",
       "  'geo': None,\n",
       "  'coordinates': None,\n",
       "  'place': None,\n",
       "  'contributors': None,\n",
       "  'is_quote_status': False,\n",
       "  'retweet_count': 0,\n",
       "  'favorite_count': 0,\n",
       "  'favorited': False,\n",
       "  'retweeted': False,\n",
       "  'lang': 'en'},\n",
       " {'_id': ObjectId('5e16454249d25d1b4651bfd0'),\n",
       "  'created_at': 'Mon Jan 06 14:17:55 +0000 2020',\n",
       "  'id': 1214189355528572930,\n",
       "  'id_str': '1214189355528572930',\n",
       "  'text': '#barkparkupdates Monday January 6- muddy trails under wet snow',\n",
       "  'truncated': False,\n",
       "  'entities': {'hashtags': [{'text': 'barkparkupdates', 'indices': [0, 16]}],\n",
       "   'symbols': [],\n",
       "   'user_mentions': [],\n",
       "   'urls': []},\n",
       "  'metadata': {'iso_language_code': 'en', 'result_type': 'recent'},\n",
       "  'source': '<a href=\"http://twitter.com/download/iphone\" rel=\"nofollow\">Twitter for iPhone</a>',\n",
       "  'in_reply_to_status_id': None,\n",
       "  'in_reply_to_status_id_str': None,\n",
       "  'in_reply_to_user_id': None,\n",
       "  'in_reply_to_user_id_str': None,\n",
       "  'in_reply_to_screen_name': None,\n",
       "  'user': {'id': 1096617690133860352,\n",
       "   'id_str': '1096617690133860352',\n",
       "   'name': 'Lazlo the dog',\n",
       "   'screen_name': 'LKthedog',\n",
       "   'location': 'Tonawanda, NY',\n",
       "   'description': \"Just a dog(the best dog,I'm told)\",\n",
       "   'url': None,\n",
       "   'entities': {'description': {'urls': []}},\n",
       "   'protected': False,\n",
       "   'followers_count': 17,\n",
       "   'friends_count': 16,\n",
       "   'listed_count': 0,\n",
       "   'created_at': 'Sat Feb 16 03:50:06 +0000 2019',\n",
       "   'favourites_count': 145,\n",
       "   'utc_offset': None,\n",
       "   'time_zone': None,\n",
       "   'geo_enabled': False,\n",
       "   'verified': False,\n",
       "   'statuses_count': 82,\n",
       "   'lang': None,\n",
       "   'contributors_enabled': False,\n",
       "   'is_translator': False,\n",
       "   'is_translation_enabled': False,\n",
       "   'profile_background_color': 'F5F8FA',\n",
       "   'profile_background_image_url': None,\n",
       "   'profile_background_image_url_https': None,\n",
       "   'profile_background_tile': False,\n",
       "   'profile_image_url': 'http://pbs.twimg.com/profile_images/1096622575466266624/EZP-IHXH_normal.jpg',\n",
       "   'profile_image_url_https': 'https://pbs.twimg.com/profile_images/1096622575466266624/EZP-IHXH_normal.jpg',\n",
       "   'profile_banner_url': 'https://pbs.twimg.com/profile_banners/1096617690133860352/1550290173',\n",
       "   'profile_link_color': '1DA1F2',\n",
       "   'profile_sidebar_border_color': 'C0DEED',\n",
       "   'profile_sidebar_fill_color': 'DDEEF6',\n",
       "   'profile_text_color': '333333',\n",
       "   'profile_use_background_image': True,\n",
       "   'has_extended_profile': False,\n",
       "   'default_profile': True,\n",
       "   'default_profile_image': False,\n",
       "   'following': False,\n",
       "   'follow_request_sent': False,\n",
       "   'notifications': False,\n",
       "   'translator_type': 'none'},\n",
       "  'geo': None,\n",
       "  'coordinates': None,\n",
       "  'place': None,\n",
       "  'contributors': None,\n",
       "  'is_quote_status': False,\n",
       "  'retweet_count': 0,\n",
       "  'favorite_count': 0,\n",
       "  'favorited': False,\n",
       "  'retweeted': False,\n",
       "  'lang': 'en'},\n",
       " {'_id': ObjectId('5e16454249d25d1b4651bfd1'),\n",
       "  'created_at': 'Sun Jan 05 13:33:38 +0000 2020',\n",
       "  'id': 1213815825049804800,\n",
       "  'id_str': '1213815825049804800',\n",
       "  'text': '#barkparkupdates Sunday January5- fresh snow over soft ground. Clear and crisp so far',\n",
       "  'truncated': False,\n",
       "  'entities': {'hashtags': [{'text': 'barkparkupdates', 'indices': [0, 16]}],\n",
       "   'symbols': [],\n",
       "   'user_mentions': [],\n",
       "   'urls': []},\n",
       "  'metadata': {'iso_language_code': 'en', 'result_type': 'recent'},\n",
       "  'source': '<a href=\"http://twitter.com/download/iphone\" rel=\"nofollow\">Twitter for iPhone</a>',\n",
       "  'in_reply_to_status_id': None,\n",
       "  'in_reply_to_status_id_str': None,\n",
       "  'in_reply_to_user_id': None,\n",
       "  'in_reply_to_user_id_str': None,\n",
       "  'in_reply_to_screen_name': None,\n",
       "  'user': {'id': 1096617690133860352,\n",
       "   'id_str': '1096617690133860352',\n",
       "   'name': 'Lazlo the dog',\n",
       "   'screen_name': 'LKthedog',\n",
       "   'location': 'Tonawanda, NY',\n",
       "   'description': \"Just a dog(the best dog,I'm told)\",\n",
       "   'url': None,\n",
       "   'entities': {'description': {'urls': []}},\n",
       "   'protected': False,\n",
       "   'followers_count': 17,\n",
       "   'friends_count': 16,\n",
       "   'listed_count': 0,\n",
       "   'created_at': 'Sat Feb 16 03:50:06 +0000 2019',\n",
       "   'favourites_count': 145,\n",
       "   'utc_offset': None,\n",
       "   'time_zone': None,\n",
       "   'geo_enabled': False,\n",
       "   'verified': False,\n",
       "   'statuses_count': 82,\n",
       "   'lang': None,\n",
       "   'contributors_enabled': False,\n",
       "   'is_translator': False,\n",
       "   'is_translation_enabled': False,\n",
       "   'profile_background_color': 'F5F8FA',\n",
       "   'profile_background_image_url': None,\n",
       "   'profile_background_image_url_https': None,\n",
       "   'profile_background_tile': False,\n",
       "   'profile_image_url': 'http://pbs.twimg.com/profile_images/1096622575466266624/EZP-IHXH_normal.jpg',\n",
       "   'profile_image_url_https': 'https://pbs.twimg.com/profile_images/1096622575466266624/EZP-IHXH_normal.jpg',\n",
       "   'profile_banner_url': 'https://pbs.twimg.com/profile_banners/1096617690133860352/1550290173',\n",
       "   'profile_link_color': '1DA1F2',\n",
       "   'profile_sidebar_border_color': 'C0DEED',\n",
       "   'profile_sidebar_fill_color': 'DDEEF6',\n",
       "   'profile_text_color': '333333',\n",
       "   'profile_use_background_image': True,\n",
       "   'has_extended_profile': False,\n",
       "   'default_profile': True,\n",
       "   'default_profile_image': False,\n",
       "   'following': False,\n",
       "   'follow_request_sent': False,\n",
       "   'notifications': False,\n",
       "   'translator_type': 'none'},\n",
       "  'geo': None,\n",
       "  'coordinates': None,\n",
       "  'place': None,\n",
       "  'contributors': None,\n",
       "  'is_quote_status': False,\n",
       "  'retweet_count': 0,\n",
       "  'favorite_count': 0,\n",
       "  'favorited': False,\n",
       "  'retweeted': False,\n",
       "  'lang': 'en'},\n",
       " {'_id': ObjectId('5e16454249d25d1b4651bfd2'),\n",
       "  'created_at': 'Sat Jan 04 13:34:31 +0000 2020',\n",
       "  'id': 1213453657989156864,\n",
       "  'id_str': '1213453657989156864',\n",
       "  'text': '#barkparkupdates Saturday January 4 trails are slushy mud, but not too bad. Come enjoy the fresh snow!',\n",
       "  'truncated': False,\n",
       "  'entities': {'hashtags': [{'text': 'barkparkupdates', 'indices': [0, 16]}],\n",
       "   'symbols': [],\n",
       "   'user_mentions': [],\n",
       "   'urls': []},\n",
       "  'metadata': {'iso_language_code': 'en', 'result_type': 'recent'},\n",
       "  'source': '<a href=\"http://twitter.com/download/iphone\" rel=\"nofollow\">Twitter for iPhone</a>',\n",
       "  'in_reply_to_status_id': None,\n",
       "  'in_reply_to_status_id_str': None,\n",
       "  'in_reply_to_user_id': None,\n",
       "  'in_reply_to_user_id_str': None,\n",
       "  'in_reply_to_screen_name': None,\n",
       "  'user': {'id': 1096617690133860352,\n",
       "   'id_str': '1096617690133860352',\n",
       "   'name': 'Lazlo the dog',\n",
       "   'screen_name': 'LKthedog',\n",
       "   'location': 'Tonawanda, NY',\n",
       "   'description': \"Just a dog(the best dog,I'm told)\",\n",
       "   'url': None,\n",
       "   'entities': {'description': {'urls': []}},\n",
       "   'protected': False,\n",
       "   'followers_count': 17,\n",
       "   'friends_count': 16,\n",
       "   'listed_count': 0,\n",
       "   'created_at': 'Sat Feb 16 03:50:06 +0000 2019',\n",
       "   'favourites_count': 145,\n",
       "   'utc_offset': None,\n",
       "   'time_zone': None,\n",
       "   'geo_enabled': False,\n",
       "   'verified': False,\n",
       "   'statuses_count': 82,\n",
       "   'lang': None,\n",
       "   'contributors_enabled': False,\n",
       "   'is_translator': False,\n",
       "   'is_translation_enabled': False,\n",
       "   'profile_background_color': 'F5F8FA',\n",
       "   'profile_background_image_url': None,\n",
       "   'profile_background_image_url_https': None,\n",
       "   'profile_background_tile': False,\n",
       "   'profile_image_url': 'http://pbs.twimg.com/profile_images/1096622575466266624/EZP-IHXH_normal.jpg',\n",
       "   'profile_image_url_https': 'https://pbs.twimg.com/profile_images/1096622575466266624/EZP-IHXH_normal.jpg',\n",
       "   'profile_banner_url': 'https://pbs.twimg.com/profile_banners/1096617690133860352/1550290173',\n",
       "   'profile_link_color': '1DA1F2',\n",
       "   'profile_sidebar_border_color': 'C0DEED',\n",
       "   'profile_sidebar_fill_color': 'DDEEF6',\n",
       "   'profile_text_color': '333333',\n",
       "   'profile_use_background_image': True,\n",
       "   'has_extended_profile': False,\n",
       "   'default_profile': True,\n",
       "   'default_profile_image': False,\n",
       "   'following': False,\n",
       "   'follow_request_sent': False,\n",
       "   'notifications': False,\n",
       "   'translator_type': 'none'},\n",
       "  'geo': None,\n",
       "  'coordinates': None,\n",
       "  'place': None,\n",
       "  'contributors': None,\n",
       "  'is_quote_status': False,\n",
       "  'retweet_count': 0,\n",
       "  'favorite_count': 0,\n",
       "  'favorited': False,\n",
       "  'retweeted': False,\n",
       "  'lang': 'en'},\n",
       " {'_id': ObjectId('5e16454249d25d1b4651bfd3'),\n",
       "  'created_at': 'Fri Jan 03 13:33:47 +0000 2020',\n",
       "  'id': 1213091085012082688,\n",
       "  'id_str': '1213091085012082688',\n",
       "  'text': '#barkparkupdates Friday January 3- still no snow or ice, trails are good, ground is soft.',\n",
       "  'truncated': False,\n",
       "  'entities': {'hashtags': [{'text': 'barkparkupdates', 'indices': [0, 16]}],\n",
       "   'symbols': [],\n",
       "   'user_mentions': [],\n",
       "   'urls': []},\n",
       "  'metadata': {'iso_language_code': 'en', 'result_type': 'recent'},\n",
       "  'source': '<a href=\"http://twitter.com/download/iphone\" rel=\"nofollow\">Twitter for iPhone</a>',\n",
       "  'in_reply_to_status_id': None,\n",
       "  'in_reply_to_status_id_str': None,\n",
       "  'in_reply_to_user_id': None,\n",
       "  'in_reply_to_user_id_str': None,\n",
       "  'in_reply_to_screen_name': None,\n",
       "  'user': {'id': 1096617690133860352,\n",
       "   'id_str': '1096617690133860352',\n",
       "   'name': 'Lazlo the dog',\n",
       "   'screen_name': 'LKthedog',\n",
       "   'location': 'Tonawanda, NY',\n",
       "   'description': \"Just a dog(the best dog,I'm told)\",\n",
       "   'url': None,\n",
       "   'entities': {'description': {'urls': []}},\n",
       "   'protected': False,\n",
       "   'followers_count': 17,\n",
       "   'friends_count': 16,\n",
       "   'listed_count': 0,\n",
       "   'created_at': 'Sat Feb 16 03:50:06 +0000 2019',\n",
       "   'favourites_count': 145,\n",
       "   'utc_offset': None,\n",
       "   'time_zone': None,\n",
       "   'geo_enabled': False,\n",
       "   'verified': False,\n",
       "   'statuses_count': 82,\n",
       "   'lang': None,\n",
       "   'contributors_enabled': False,\n",
       "   'is_translator': False,\n",
       "   'is_translation_enabled': False,\n",
       "   'profile_background_color': 'F5F8FA',\n",
       "   'profile_background_image_url': None,\n",
       "   'profile_background_image_url_https': None,\n",
       "   'profile_background_tile': False,\n",
       "   'profile_image_url': 'http://pbs.twimg.com/profile_images/1096622575466266624/EZP-IHXH_normal.jpg',\n",
       "   'profile_image_url_https': 'https://pbs.twimg.com/profile_images/1096622575466266624/EZP-IHXH_normal.jpg',\n",
       "   'profile_banner_url': 'https://pbs.twimg.com/profile_banners/1096617690133860352/1550290173',\n",
       "   'profile_link_color': '1DA1F2',\n",
       "   'profile_sidebar_border_color': 'C0DEED',\n",
       "   'profile_sidebar_fill_color': 'DDEEF6',\n",
       "   'profile_text_color': '333333',\n",
       "   'profile_use_background_image': True,\n",
       "   'has_extended_profile': False,\n",
       "   'default_profile': True,\n",
       "   'default_profile_image': False,\n",
       "   'following': False,\n",
       "   'follow_request_sent': False,\n",
       "   'notifications': False,\n",
       "   'translator_type': 'none'},\n",
       "  'geo': None,\n",
       "  'coordinates': None,\n",
       "  'place': None,\n",
       "  'contributors': None,\n",
       "  'is_quote_status': False,\n",
       "  'retweet_count': 0,\n",
       "  'favorite_count': 0,\n",
       "  'favorited': False,\n",
       "  'retweeted': False,\n",
       "  'lang': 'en'},\n",
       " {'_id': ObjectId('5e16454249d25d1b4651bfd4'),\n",
       "  'created_at': 'Thu Jan 02 13:55:20 +0000 2020',\n",
       "  'id': 1212734120188620800,\n",
       "  'id_str': '1212734120188620800',\n",
       "  'text': '#barkparkupdates    Thursday January 2- cold morning, frozen conditions for the path.',\n",
       "  'truncated': False,\n",
       "  'entities': {'hashtags': [{'text': 'barkparkupdates', 'indices': [0, 16]}],\n",
       "   'symbols': [],\n",
       "   'user_mentions': [],\n",
       "   'urls': []},\n",
       "  'metadata': {'iso_language_code': 'en', 'result_type': 'recent'},\n",
       "  'source': '<a href=\"http://twitter.com/download/iphone\" rel=\"nofollow\">Twitter for iPhone</a>',\n",
       "  'in_reply_to_status_id': None,\n",
       "  'in_reply_to_status_id_str': None,\n",
       "  'in_reply_to_user_id': None,\n",
       "  'in_reply_to_user_id_str': None,\n",
       "  'in_reply_to_screen_name': None,\n",
       "  'user': {'id': 1096617690133860352,\n",
       "   'id_str': '1096617690133860352',\n",
       "   'name': 'Lazlo the dog',\n",
       "   'screen_name': 'LKthedog',\n",
       "   'location': 'Tonawanda, NY',\n",
       "   'description': \"Just a dog(the best dog,I'm told)\",\n",
       "   'url': None,\n",
       "   'entities': {'description': {'urls': []}},\n",
       "   'protected': False,\n",
       "   'followers_count': 17,\n",
       "   'friends_count': 16,\n",
       "   'listed_count': 0,\n",
       "   'created_at': 'Sat Feb 16 03:50:06 +0000 2019',\n",
       "   'favourites_count': 145,\n",
       "   'utc_offset': None,\n",
       "   'time_zone': None,\n",
       "   'geo_enabled': False,\n",
       "   'verified': False,\n",
       "   'statuses_count': 82,\n",
       "   'lang': None,\n",
       "   'contributors_enabled': False,\n",
       "   'is_translator': False,\n",
       "   'is_translation_enabled': False,\n",
       "   'profile_background_color': 'F5F8FA',\n",
       "   'profile_background_image_url': None,\n",
       "   'profile_background_image_url_https': None,\n",
       "   'profile_background_tile': False,\n",
       "   'profile_image_url': 'http://pbs.twimg.com/profile_images/1096622575466266624/EZP-IHXH_normal.jpg',\n",
       "   'profile_image_url_https': 'https://pbs.twimg.com/profile_images/1096622575466266624/EZP-IHXH_normal.jpg',\n",
       "   'profile_banner_url': 'https://pbs.twimg.com/profile_banners/1096617690133860352/1550290173',\n",
       "   'profile_link_color': '1DA1F2',\n",
       "   'profile_sidebar_border_color': 'C0DEED',\n",
       "   'profile_sidebar_fill_color': 'DDEEF6',\n",
       "   'profile_text_color': '333333',\n",
       "   'profile_use_background_image': True,\n",
       "   'has_extended_profile': False,\n",
       "   'default_profile': True,\n",
       "   'default_profile_image': False,\n",
       "   'following': False,\n",
       "   'follow_request_sent': False,\n",
       "   'notifications': False,\n",
       "   'translator_type': 'none'},\n",
       "  'geo': None,\n",
       "  'coordinates': None,\n",
       "  'place': None,\n",
       "  'contributors': None,\n",
       "  'is_quote_status': False,\n",
       "  'retweet_count': 0,\n",
       "  'favorite_count': 0,\n",
       "  'favorited': False,\n",
       "  'retweeted': False,\n",
       "  'lang': 'en'},\n",
       " {'_id': ObjectId('5e16454249d25d1b4651bfd5'),\n",
       "  'created_at': 'Wed Jan 01 14:22:48 +0000 2020',\n",
       "  'id': 1212378645509148679,\n",
       "  'id_str': '1212378645509148679',\n",
       "  'text': '#barkparkupdates Wednesday January 1-happy new year to all! The park is frozen so easy going for everyone!',\n",
       "  'truncated': False,\n",
       "  'entities': {'hashtags': [{'text': 'barkparkupdates', 'indices': [0, 16]}],\n",
       "   'symbols': [],\n",
       "   'user_mentions': [],\n",
       "   'urls': []},\n",
       "  'metadata': {'iso_language_code': 'en', 'result_type': 'recent'},\n",
       "  'source': '<a href=\"http://twitter.com/download/iphone\" rel=\"nofollow\">Twitter for iPhone</a>',\n",
       "  'in_reply_to_status_id': None,\n",
       "  'in_reply_to_status_id_str': None,\n",
       "  'in_reply_to_user_id': None,\n",
       "  'in_reply_to_user_id_str': None,\n",
       "  'in_reply_to_screen_name': None,\n",
       "  'user': {'id': 1096617690133860352,\n",
       "   'id_str': '1096617690133860352',\n",
       "   'name': 'Lazlo the dog',\n",
       "   'screen_name': 'LKthedog',\n",
       "   'location': 'Tonawanda, NY',\n",
       "   'description': \"Just a dog(the best dog,I'm told)\",\n",
       "   'url': None,\n",
       "   'entities': {'description': {'urls': []}},\n",
       "   'protected': False,\n",
       "   'followers_count': 17,\n",
       "   'friends_count': 16,\n",
       "   'listed_count': 0,\n",
       "   'created_at': 'Sat Feb 16 03:50:06 +0000 2019',\n",
       "   'favourites_count': 145,\n",
       "   'utc_offset': None,\n",
       "   'time_zone': None,\n",
       "   'geo_enabled': False,\n",
       "   'verified': False,\n",
       "   'statuses_count': 82,\n",
       "   'lang': None,\n",
       "   'contributors_enabled': False,\n",
       "   'is_translator': False,\n",
       "   'is_translation_enabled': False,\n",
       "   'profile_background_color': 'F5F8FA',\n",
       "   'profile_background_image_url': None,\n",
       "   'profile_background_image_url_https': None,\n",
       "   'profile_background_tile': False,\n",
       "   'profile_image_url': 'http://pbs.twimg.com/profile_images/1096622575466266624/EZP-IHXH_normal.jpg',\n",
       "   'profile_image_url_https': 'https://pbs.twimg.com/profile_images/1096622575466266624/EZP-IHXH_normal.jpg',\n",
       "   'profile_banner_url': 'https://pbs.twimg.com/profile_banners/1096617690133860352/1550290173',\n",
       "   'profile_link_color': '1DA1F2',\n",
       "   'profile_sidebar_border_color': 'C0DEED',\n",
       "   'profile_sidebar_fill_color': 'DDEEF6',\n",
       "   'profile_text_color': '333333',\n",
       "   'profile_use_background_image': True,\n",
       "   'has_extended_profile': False,\n",
       "   'default_profile': True,\n",
       "   'default_profile_image': False,\n",
       "   'following': False,\n",
       "   'follow_request_sent': False,\n",
       "   'notifications': False,\n",
       "   'translator_type': 'none'},\n",
       "  'geo': None,\n",
       "  'coordinates': None,\n",
       "  'place': None,\n",
       "  'contributors': None,\n",
       "  'is_quote_status': False,\n",
       "  'retweet_count': 0,\n",
       "  'favorite_count': 1,\n",
       "  'favorited': False,\n",
       "  'retweeted': False,\n",
       "  'lang': 'en'}]"
      ]
     },
     "execution_count": 59,
     "metadata": {},
     "output_type": "execute_result"
    }
   ],
   "source": [
    "list(barkpark_collection.find())"
   ]
  },
  {
   "cell_type": "code",
   "execution_count": null,
   "metadata": {},
   "outputs": [],
   "source": []
  }
 ],
 "metadata": {
  "kernelspec": {
   "display_name": "Python 3",
   "language": "python",
   "name": "python3"
  },
  "language_info": {
   "codemirror_mode": {
    "name": "ipython",
    "version": 3
   },
   "file_extension": ".py",
   "mimetype": "text/x-python",
   "name": "python",
   "nbconvert_exporter": "python",
   "pygments_lexer": "ipython3",
   "version": "3.6.0"
  }
 },
 "nbformat": 4,
 "nbformat_minor": 2
}
