{
 "cells": [
  {
   "cell_type": "markdown",
   "metadata": {},
   "source": [
    "### Questions\n",
    "- Column Stores vs Key: Value \n",
    "- RDDs"
   ]
  },
  {
   "cell_type": "markdown",
   "metadata": {},
   "source": [
    "### Objectives\n",
    "YWBAT\n",
    "* write data into a mongo db\n",
    "* read data from a mongo db"
   ]
  },
  {
   "cell_type": "markdown",
   "metadata": {},
   "source": [
    "## Steps to run Mongo and PyMongo\n",
    "* Step 1: Run `mongod` in your terminal\n",
    "* Step 2: Connect using pymongo Client specifying host and port\n",
    "* Step 3: Have fun! Or don't...I don't know..."
   ]
  },
  {
   "cell_type": "markdown",
   "metadata": {},
   "source": [
    "### Outline\n",
    "* Questions\n",
    "* Objectives\n",
    "* "
   ]
  },
  {
   "cell_type": "code",
   "execution_count": 2,
   "metadata": {},
   "outputs": [],
   "source": [
    "import json\n",
    "import requests\n",
    "import tweepy\n",
    "\n",
    "import pandas as pd\n",
    "import numpy as np\n",
    "from PIL import Image, ImageShow\n",
    "from io import StringIO, BytesIO\n",
    "\n",
    "from pymongo import MongoClient\n",
    "\n",
    "from sklearn.datasets import load_boston\n",
    "\n",
    "import matplotlib.pyplot as plt"
   ]
  },
  {
   "cell_type": "markdown",
   "metadata": {},
   "source": [
    "| SQL | Mongo |\n",
    "| ----| ------| \n",
    "| Database | Database |\n",
    "| Table    | Collection |\n",
    "| Records/Rows | Document |"
   ]
  },
  {
   "cell_type": "code",
   "execution_count": 2,
   "metadata": {},
   "outputs": [],
   "source": [
    "# Let's create a database and a collection and a document"
   ]
  },
  {
   "cell_type": "code",
   "execution_count": 9,
   "metadata": {},
   "outputs": [],
   "source": [
    "client = MongoClient(host=\"localhost\", port=27017)"
   ]
  },
  {
   "cell_type": "code",
   "execution_count": 10,
   "metadata": {},
   "outputs": [
    {
     "data": {
      "text/plain": [
       "['admin', 'config', 'local', 'music_tweets', 'tweets']"
      ]
     },
     "execution_count": 10,
     "metadata": {},
     "output_type": "execute_result"
    }
   ],
   "source": [
    "client.list_database_names() # show dbs in mongo"
   ]
  },
  {
   "cell_type": "code",
   "execution_count": 12,
   "metadata": {},
   "outputs": [],
   "source": [
    "new_db = client[\"new_db\"]"
   ]
  },
  {
   "cell_type": "code",
   "execution_count": 13,
   "metadata": {},
   "outputs": [],
   "source": [
    "students_collection = new_db[\"students\"]"
   ]
  },
  {
   "cell_type": "code",
   "execution_count": 17,
   "metadata": {},
   "outputs": [
    {
     "data": {
      "text/plain": [
       "['admin', 'config', 'local', 'music_tweets', 'tweets']"
      ]
     },
     "execution_count": 17,
     "metadata": {},
     "output_type": "execute_result"
    }
   ],
   "source": [
    "client.list_database_names()"
   ]
  },
  {
   "cell_type": "code",
   "execution_count": 15,
   "metadata": {},
   "outputs": [],
   "source": [
    "instructors_collection = new_db['instructors']"
   ]
  },
  {
   "cell_type": "code",
   "execution_count": 16,
   "metadata": {},
   "outputs": [
    {
     "data": {
      "text/plain": [
       "[]"
      ]
     },
     "execution_count": 16,
     "metadata": {},
     "output_type": "execute_result"
    }
   ],
   "source": [
    "new_db.list_collection_names()"
   ]
  },
  {
   "cell_type": "markdown",
   "metadata": {},
   "source": [
    "### Let's populate students\n"
   ]
  },
  {
   "cell_type": "code",
   "execution_count": 21,
   "metadata": {},
   "outputs": [],
   "source": [
    "def fill_form():\n",
    "    form = {}\n",
    "    \n",
    "    name = input(\"Enter Name: \")\n",
    "    form['name'] = name\n",
    "    \n",
    "    age = int(input(\"Enter Age: \"))\n",
    "    form['age'] = age\n",
    "    \n",
    "    favorite_instructor = \"Rafael\"\n",
    "    form[\"favorite_instructor\"] = favorite_instructor\n",
    "    \n",
    "    favorite_cartoon = input(\"What's your favorite cartoon? \")\n",
    "    form[\"favorite_cartoon\"] = favorite_cartoon\n",
    "    \n",
    "    state = input(\"State of Residence\")\n",
    "    form[\"state\"] = state\n",
    "    \n",
    "    track = input(\"What are you studying?\\n1. SE\\n2. DS\\n3.UI/UX\")\n",
    "    form[\"track\"] = track\n",
    "    return form"
   ]
  },
  {
   "cell_type": "code",
   "execution_count": 25,
   "metadata": {},
   "outputs": [],
   "source": [
    "def form_input_flow(client, db='new_db', collection='students'):\n",
    "    form = fill_form()\n",
    "    \n",
    "    # created a variable for my collection\n",
    "    coll = client[db][collection]\n",
    "    coll.insert_one(form)\n",
    "    total_docs = coll.count_documents()\n",
    "    print(f\"Inserted a new form, you now have {total_docs} documents in {collection}\")\n",
    "    return None"
   ]
  },
  {
   "cell_type": "code",
   "execution_count": 24,
   "metadata": {},
   "outputs": [
    {
     "name": "stdout",
     "output_type": "stream",
     "text": [
      "Enter Name: Andrew Smith\n",
      "Enter Age: 31\n",
      "What's your favorite cartoon? DBZ\n",
      "State of ResidenceTX\n",
      "What are you studying?\n",
      "1. SE\n",
      "2. DS\n",
      "3.UI/UXDS\n"
     ]
    },
    {
     "name": "stderr",
     "output_type": "stream",
     "text": [
      "/Users/rafael/anaconda3/envs/flatiron-env/lib/python3.6/site-packages/ipykernel_launcher.py:7: DeprecationWarning: count is deprecated. Use estimated_document_count or count_documents instead. Please note that $where must be replaced by $expr, $near must be replaced by $geoWithin with $center, and $nearSphere must be replaced by $geoWithin with $centerSphere\n",
      "  import sys\n"
     ]
    },
    {
     "name": "stdout",
     "output_type": "stream",
     "text": [
      "Inserted a new form, you now have 1 documents in students\n",
      "Enter Name: Bryan Jamieson\n",
      "Enter Age: 24\n",
      "What's your favorite cartoon? Scoobie-Doo\n",
      "State of ResidenceOH\n",
      "What are you studying?\n",
      "1. SE\n",
      "2. DS\n",
      "3.UI/UXDS\n",
      "Inserted a new form, you now have 2 documents in students\n",
      "Enter Name: Jeffrey Hinkle\n",
      "Enter Age: 44\n",
      "What's your favorite cartoon? Tom and Jerry\n",
      "State of ResidenceGA\n",
      "What are you studying?\n",
      "1. SE\n",
      "2. DS\n",
      "3.UI/UXDS\n",
      "Inserted a new form, you now have 3 documents in students\n",
      "Enter Name: Dr. Who\n",
      "Enter Age: 25\n",
      "What's your favorite cartoon? DBS\n",
      "State of ResidenceGA\n",
      "What are you studying?\n",
      "1. SE\n",
      "2. DS\n",
      "3.UI/UXDS\n",
      "Inserted a new form, you now have 4 documents in students\n",
      "Enter Name: Mathew Menarchy\n",
      "Enter Age: 35\n",
      "What's your favorite cartoon? Animaniacs\n",
      "State of ResidenceTN\n",
      "What are you studying?\n",
      "1. SE\n",
      "2. DS\n",
      "3.UI/UXDS\n",
      "Inserted a new form, you now have 5 documents in students\n"
     ]
    },
    {
     "ename": "KeyboardInterrupt",
     "evalue": "",
     "output_type": "error",
     "traceback": [
      "\u001b[0;31m-----------------------------------------------\u001b[0m",
      "\u001b[0;31mKeyboardInterrupt\u001b[0mTraceback (most recent call last)",
      "\u001b[0;32m~/anaconda3/envs/flatiron-env/lib/python3.6/site-packages/ipykernel/kernelbase.py\u001b[0m in \u001b[0;36m_input_request\u001b[0;34m(self, prompt, ident, parent, password)\u001b[0m\n\u001b[1;32m    884\u001b[0m             \u001b[0;32mtry\u001b[0m\u001b[0;34m:\u001b[0m\u001b[0;34m\u001b[0m\u001b[0m\n\u001b[0;32m--> 885\u001b[0;31m                 \u001b[0mident\u001b[0m\u001b[0;34m,\u001b[0m \u001b[0mreply\u001b[0m \u001b[0;34m=\u001b[0m \u001b[0mself\u001b[0m\u001b[0;34m.\u001b[0m\u001b[0msession\u001b[0m\u001b[0;34m.\u001b[0m\u001b[0mrecv\u001b[0m\u001b[0;34m(\u001b[0m\u001b[0mself\u001b[0m\u001b[0;34m.\u001b[0m\u001b[0mstdin_socket\u001b[0m\u001b[0;34m,\u001b[0m \u001b[0;36m0\u001b[0m\u001b[0;34m)\u001b[0m\u001b[0;34m\u001b[0m\u001b[0m\n\u001b[0m\u001b[1;32m    886\u001b[0m             \u001b[0;32mexcept\u001b[0m \u001b[0mException\u001b[0m\u001b[0;34m:\u001b[0m\u001b[0;34m\u001b[0m\u001b[0m\n",
      "\u001b[0;32m~/anaconda3/envs/flatiron-env/lib/python3.6/site-packages/jupyter_client/session.py\u001b[0m in \u001b[0;36mrecv\u001b[0;34m(self, socket, mode, content, copy)\u001b[0m\n\u001b[1;32m    802\u001b[0m         \u001b[0;32mtry\u001b[0m\u001b[0;34m:\u001b[0m\u001b[0;34m\u001b[0m\u001b[0m\n\u001b[0;32m--> 803\u001b[0;31m             \u001b[0mmsg_list\u001b[0m \u001b[0;34m=\u001b[0m \u001b[0msocket\u001b[0m\u001b[0;34m.\u001b[0m\u001b[0mrecv_multipart\u001b[0m\u001b[0;34m(\u001b[0m\u001b[0mmode\u001b[0m\u001b[0;34m,\u001b[0m \u001b[0mcopy\u001b[0m\u001b[0;34m=\u001b[0m\u001b[0mcopy\u001b[0m\u001b[0;34m)\u001b[0m\u001b[0;34m\u001b[0m\u001b[0m\n\u001b[0m\u001b[1;32m    804\u001b[0m         \u001b[0;32mexcept\u001b[0m \u001b[0mzmq\u001b[0m\u001b[0;34m.\u001b[0m\u001b[0mZMQError\u001b[0m \u001b[0;32mas\u001b[0m \u001b[0me\u001b[0m\u001b[0;34m:\u001b[0m\u001b[0;34m\u001b[0m\u001b[0m\n",
      "\u001b[0;32m~/anaconda3/envs/flatiron-env/lib/python3.6/site-packages/zmq/sugar/socket.py\u001b[0m in \u001b[0;36mrecv_multipart\u001b[0;34m(self, flags, copy, track)\u001b[0m\n\u001b[1;32m    474\u001b[0m         \"\"\"\n\u001b[0;32m--> 475\u001b[0;31m         \u001b[0mparts\u001b[0m \u001b[0;34m=\u001b[0m \u001b[0;34m[\u001b[0m\u001b[0mself\u001b[0m\u001b[0;34m.\u001b[0m\u001b[0mrecv\u001b[0m\u001b[0;34m(\u001b[0m\u001b[0mflags\u001b[0m\u001b[0;34m,\u001b[0m \u001b[0mcopy\u001b[0m\u001b[0;34m=\u001b[0m\u001b[0mcopy\u001b[0m\u001b[0;34m,\u001b[0m \u001b[0mtrack\u001b[0m\u001b[0;34m=\u001b[0m\u001b[0mtrack\u001b[0m\u001b[0;34m)\u001b[0m\u001b[0;34m]\u001b[0m\u001b[0;34m\u001b[0m\u001b[0m\n\u001b[0m\u001b[1;32m    476\u001b[0m         \u001b[0;31m# have first part already, only loop while more to receive\u001b[0m\u001b[0;34m\u001b[0m\u001b[0;34m\u001b[0m\u001b[0m\n",
      "\u001b[0;32mzmq/backend/cython/socket.pyx\u001b[0m in \u001b[0;36mzmq.backend.cython.socket.Socket.recv\u001b[0;34m()\u001b[0m\n",
      "\u001b[0;32mzmq/backend/cython/socket.pyx\u001b[0m in \u001b[0;36mzmq.backend.cython.socket.Socket.recv\u001b[0;34m()\u001b[0m\n",
      "\u001b[0;32mzmq/backend/cython/socket.pyx\u001b[0m in \u001b[0;36mzmq.backend.cython.socket._recv_copy\u001b[0;34m()\u001b[0m\n",
      "\u001b[0;32m~/anaconda3/envs/flatiron-env/lib/python3.6/site-packages/zmq/backend/cython/checkrc.pxd\u001b[0m in \u001b[0;36mzmq.backend.cython.checkrc._check_rc\u001b[0;34m()\u001b[0m\n",
      "\u001b[0;31mKeyboardInterrupt\u001b[0m: ",
      "\nDuring handling of the above exception, another exception occurred:\n",
      "\u001b[0;31mKeyboardInterrupt\u001b[0mTraceback (most recent call last)",
      "\u001b[0;32m<ipython-input-24-71d0a0d52764>\u001b[0m in \u001b[0;36m<module>\u001b[0;34m\u001b[0m\n\u001b[1;32m      1\u001b[0m \u001b[0;32mwhile\u001b[0m \u001b[0;32mTrue\u001b[0m\u001b[0;34m:\u001b[0m\u001b[0;34m\u001b[0m\u001b[0m\n\u001b[0;32m----> 2\u001b[0;31m     \u001b[0mform_input_flow\u001b[0m\u001b[0;34m(\u001b[0m\u001b[0mclient\u001b[0m\u001b[0;34m=\u001b[0m\u001b[0mclient\u001b[0m\u001b[0;34m)\u001b[0m\u001b[0;34m\u001b[0m\u001b[0m\n\u001b[0m",
      "\u001b[0;32m<ipython-input-23-2348984e1a55>\u001b[0m in \u001b[0;36mform_input_flow\u001b[0;34m(client, db, collection)\u001b[0m\n\u001b[1;32m      1\u001b[0m \u001b[0;32mdef\u001b[0m \u001b[0mform_input_flow\u001b[0m\u001b[0;34m(\u001b[0m\u001b[0mclient\u001b[0m\u001b[0;34m,\u001b[0m \u001b[0mdb\u001b[0m\u001b[0;34m=\u001b[0m\u001b[0;34m'new_db'\u001b[0m\u001b[0;34m,\u001b[0m \u001b[0mcollection\u001b[0m\u001b[0;34m=\u001b[0m\u001b[0;34m'students'\u001b[0m\u001b[0;34m)\u001b[0m\u001b[0;34m:\u001b[0m\u001b[0;34m\u001b[0m\u001b[0m\n\u001b[0;32m----> 2\u001b[0;31m     \u001b[0mform\u001b[0m \u001b[0;34m=\u001b[0m \u001b[0mfill_form\u001b[0m\u001b[0;34m(\u001b[0m\u001b[0;34m)\u001b[0m\u001b[0;34m\u001b[0m\u001b[0m\n\u001b[0m\u001b[1;32m      3\u001b[0m \u001b[0;34m\u001b[0m\u001b[0m\n\u001b[1;32m      4\u001b[0m     \u001b[0;31m# created a variable for my collection\u001b[0m\u001b[0;34m\u001b[0m\u001b[0;34m\u001b[0m\u001b[0m\n\u001b[1;32m      5\u001b[0m     \u001b[0mcoll\u001b[0m \u001b[0;34m=\u001b[0m \u001b[0mclient\u001b[0m\u001b[0;34m[\u001b[0m\u001b[0mdb\u001b[0m\u001b[0;34m]\u001b[0m\u001b[0;34m[\u001b[0m\u001b[0mcollection\u001b[0m\u001b[0;34m]\u001b[0m\u001b[0;34m\u001b[0m\u001b[0m\n",
      "\u001b[0;32m<ipython-input-21-bca7e9067b23>\u001b[0m in \u001b[0;36mfill_form\u001b[0;34m()\u001b[0m\n\u001b[1;32m      2\u001b[0m     \u001b[0mform\u001b[0m \u001b[0;34m=\u001b[0m \u001b[0;34m{\u001b[0m\u001b[0;34m}\u001b[0m\u001b[0;34m\u001b[0m\u001b[0m\n\u001b[1;32m      3\u001b[0m \u001b[0;34m\u001b[0m\u001b[0m\n\u001b[0;32m----> 4\u001b[0;31m     \u001b[0mname\u001b[0m \u001b[0;34m=\u001b[0m \u001b[0minput\u001b[0m\u001b[0;34m(\u001b[0m\u001b[0;34m\"Enter Name: \"\u001b[0m\u001b[0;34m)\u001b[0m\u001b[0;34m\u001b[0m\u001b[0m\n\u001b[0m\u001b[1;32m      5\u001b[0m     \u001b[0mform\u001b[0m\u001b[0;34m[\u001b[0m\u001b[0;34m'name'\u001b[0m\u001b[0;34m]\u001b[0m \u001b[0;34m=\u001b[0m \u001b[0mname\u001b[0m\u001b[0;34m\u001b[0m\u001b[0m\n\u001b[1;32m      6\u001b[0m \u001b[0;34m\u001b[0m\u001b[0m\n",
      "\u001b[0;32m~/anaconda3/envs/flatiron-env/lib/python3.6/site-packages/ipykernel/kernelbase.py\u001b[0m in \u001b[0;36mraw_input\u001b[0;34m(self, prompt)\u001b[0m\n\u001b[1;32m    858\u001b[0m             \u001b[0mself\u001b[0m\u001b[0;34m.\u001b[0m\u001b[0m_parent_ident\u001b[0m\u001b[0;34m,\u001b[0m\u001b[0;34m\u001b[0m\u001b[0m\n\u001b[1;32m    859\u001b[0m             \u001b[0mself\u001b[0m\u001b[0;34m.\u001b[0m\u001b[0m_parent_header\u001b[0m\u001b[0;34m,\u001b[0m\u001b[0;34m\u001b[0m\u001b[0m\n\u001b[0;32m--> 860\u001b[0;31m             \u001b[0mpassword\u001b[0m\u001b[0;34m=\u001b[0m\u001b[0;32mFalse\u001b[0m\u001b[0;34m,\u001b[0m\u001b[0;34m\u001b[0m\u001b[0m\n\u001b[0m\u001b[1;32m    861\u001b[0m         )\n\u001b[1;32m    862\u001b[0m \u001b[0;34m\u001b[0m\u001b[0m\n",
      "\u001b[0;32m~/anaconda3/envs/flatiron-env/lib/python3.6/site-packages/ipykernel/kernelbase.py\u001b[0m in \u001b[0;36m_input_request\u001b[0;34m(self, prompt, ident, parent, password)\u001b[0m\n\u001b[1;32m    888\u001b[0m             \u001b[0;32mexcept\u001b[0m \u001b[0mKeyboardInterrupt\u001b[0m\u001b[0;34m:\u001b[0m\u001b[0;34m\u001b[0m\u001b[0m\n\u001b[1;32m    889\u001b[0m                 \u001b[0;31m# re-raise KeyboardInterrupt, to truncate traceback\u001b[0m\u001b[0;34m\u001b[0m\u001b[0;34m\u001b[0m\u001b[0m\n\u001b[0;32m--> 890\u001b[0;31m                 \u001b[0;32mraise\u001b[0m \u001b[0mKeyboardInterrupt\u001b[0m\u001b[0;34m\u001b[0m\u001b[0m\n\u001b[0m\u001b[1;32m    891\u001b[0m             \u001b[0;32melse\u001b[0m\u001b[0;34m:\u001b[0m\u001b[0;34m\u001b[0m\u001b[0m\n\u001b[1;32m    892\u001b[0m                 \u001b[0;32mbreak\u001b[0m\u001b[0;34m\u001b[0m\u001b[0m\n",
      "\u001b[0;31mKeyboardInterrupt\u001b[0m: "
     ]
    }
   ],
   "source": [
    "while True:\n",
    "    form_input_flow(client=client)"
   ]
  },
  {
   "cell_type": "markdown",
   "metadata": {},
   "source": [
    "### Filling out forms you can almost guarantee this is going into a database"
   ]
  },
  {
   "cell_type": "code",
   "execution_count": 27,
   "metadata": {},
   "outputs": [
    {
     "data": {
      "text/plain": [
       "5"
      ]
     },
     "execution_count": 27,
     "metadata": {},
     "output_type": "execute_result"
    }
   ],
   "source": [
    "students_collection.count_documents(filter={})"
   ]
  },
  {
   "cell_type": "code",
   "execution_count": 30,
   "metadata": {},
   "outputs": [
    {
     "data": {
      "text/plain": [
       "[{'_id': ObjectId('5d9f7a4e060ef7ed5960f9d9'),\n",
       "  'name': 'Andrew Smith',\n",
       "  'age': 31,\n",
       "  'favorite_instructor': 'Rafael',\n",
       "  'favorite_cartoon': 'DBZ',\n",
       "  'state': 'TX',\n",
       "  'track': 'DS'},\n",
       " {'_id': ObjectId('5d9f7ac1060ef7ed5960f9db'),\n",
       "  'name': 'Jeffrey Hinkle',\n",
       "  'age': 44,\n",
       "  'favorite_instructor': 'Rafael',\n",
       "  'favorite_cartoon': 'Tom and Jerry',\n",
       "  'state': 'GA',\n",
       "  'track': 'DS'},\n",
       " {'_id': ObjectId('5d9f7b1e060ef7ed5960f9dd'),\n",
       "  'name': 'Mathew Menarchy',\n",
       "  'age': 35,\n",
       "  'favorite_instructor': 'Rafael',\n",
       "  'favorite_cartoon': 'Animaniacs',\n",
       "  'state': 'TN',\n",
       "  'track': 'DS'}]"
      ]
     },
     "execution_count": 30,
     "metadata": {},
     "output_type": "execute_result"
    }
   ],
   "source": [
    "list(students_collection.find({\"age\": {\"$gt\": 30}}))"
   ]
  },
  {
   "cell_type": "code",
   "execution_count": 31,
   "metadata": {},
   "outputs": [
    {
     "data": {
      "text/plain": [
       "[{'_id': ObjectId('5d9f7a4e060ef7ed5960f9d9'),\n",
       "  'name': 'Andrew Smith',\n",
       "  'age': 31,\n",
       "  'favorite_instructor': 'Rafael',\n",
       "  'favorite_cartoon': 'DBZ',\n",
       "  'state': 'TX',\n",
       "  'track': 'DS'},\n",
       " {'_id': ObjectId('5d9f7a92060ef7ed5960f9da'),\n",
       "  'name': 'Bryan Jamieson',\n",
       "  'age': 24,\n",
       "  'favorite_instructor': 'Rafael',\n",
       "  'favorite_cartoon': 'Scoobie-Doo',\n",
       "  'state': 'OH',\n",
       "  'track': 'DS'},\n",
       " {'_id': ObjectId('5d9f7ac1060ef7ed5960f9db'),\n",
       "  'name': 'Jeffrey Hinkle',\n",
       "  'age': 44,\n",
       "  'favorite_instructor': 'Rafael',\n",
       "  'favorite_cartoon': 'Tom and Jerry',\n",
       "  'state': 'GA',\n",
       "  'track': 'DS'},\n",
       " {'_id': ObjectId('5d9f7af3060ef7ed5960f9dc'),\n",
       "  'name': 'Dr. Who',\n",
       "  'age': 25,\n",
       "  'favorite_instructor': 'Rafael',\n",
       "  'favorite_cartoon': 'DBS',\n",
       "  'state': 'GA',\n",
       "  'track': 'DS'},\n",
       " {'_id': ObjectId('5d9f7b1e060ef7ed5960f9dd'),\n",
       "  'name': 'Mathew Menarchy',\n",
       "  'age': 35,\n",
       "  'favorite_instructor': 'Rafael',\n",
       "  'favorite_cartoon': 'Animaniacs',\n",
       "  'state': 'TN',\n",
       "  'track': 'DS'},\n",
       " {'_id': ObjectId('5d9f7c45060ef7ed5960f9de'), 'name': 'The Master'}]"
      ]
     },
     "execution_count": 31,
     "metadata": {},
     "output_type": "execute_result"
    }
   ],
   "source": [
    "new_student = {\"name\": \"The Master\"}\n",
    "students_collection.insert_one(new_student)\n",
    "\n",
    "list(students_collection.find({}))"
   ]
  },
  {
   "cell_type": "code",
   "execution_count": 33,
   "metadata": {},
   "outputs": [
    {
     "data": {
      "text/html": [
       "<div>\n",
       "<style scoped>\n",
       "    .dataframe tbody tr th:only-of-type {\n",
       "        vertical-align: middle;\n",
       "    }\n",
       "\n",
       "    .dataframe tbody tr th {\n",
       "        vertical-align: top;\n",
       "    }\n",
       "\n",
       "    .dataframe thead th {\n",
       "        text-align: right;\n",
       "    }\n",
       "</style>\n",
       "<table border=\"1\" class=\"dataframe\">\n",
       "  <thead>\n",
       "    <tr style=\"text-align: right;\">\n",
       "      <th></th>\n",
       "      <th>_id</th>\n",
       "      <th>name</th>\n",
       "      <th>age</th>\n",
       "      <th>favorite_instructor</th>\n",
       "      <th>favorite_cartoon</th>\n",
       "      <th>state</th>\n",
       "      <th>track</th>\n",
       "    </tr>\n",
       "  </thead>\n",
       "  <tbody>\n",
       "    <tr>\n",
       "      <td>0</td>\n",
       "      <td>5d9f7a4e060ef7ed5960f9d9</td>\n",
       "      <td>Andrew Smith</td>\n",
       "      <td>31.0</td>\n",
       "      <td>Rafael</td>\n",
       "      <td>DBZ</td>\n",
       "      <td>TX</td>\n",
       "      <td>DS</td>\n",
       "    </tr>\n",
       "    <tr>\n",
       "      <td>1</td>\n",
       "      <td>5d9f7a92060ef7ed5960f9da</td>\n",
       "      <td>Bryan Jamieson</td>\n",
       "      <td>24.0</td>\n",
       "      <td>Rafael</td>\n",
       "      <td>Scoobie-Doo</td>\n",
       "      <td>OH</td>\n",
       "      <td>DS</td>\n",
       "    </tr>\n",
       "    <tr>\n",
       "      <td>2</td>\n",
       "      <td>5d9f7ac1060ef7ed5960f9db</td>\n",
       "      <td>Jeffrey Hinkle</td>\n",
       "      <td>44.0</td>\n",
       "      <td>Rafael</td>\n",
       "      <td>Tom and Jerry</td>\n",
       "      <td>GA</td>\n",
       "      <td>DS</td>\n",
       "    </tr>\n",
       "    <tr>\n",
       "      <td>3</td>\n",
       "      <td>5d9f7af3060ef7ed5960f9dc</td>\n",
       "      <td>Dr. Who</td>\n",
       "      <td>25.0</td>\n",
       "      <td>Rafael</td>\n",
       "      <td>DBS</td>\n",
       "      <td>GA</td>\n",
       "      <td>DS</td>\n",
       "    </tr>\n",
       "    <tr>\n",
       "      <td>4</td>\n",
       "      <td>5d9f7b1e060ef7ed5960f9dd</td>\n",
       "      <td>Mathew Menarchy</td>\n",
       "      <td>35.0</td>\n",
       "      <td>Rafael</td>\n",
       "      <td>Animaniacs</td>\n",
       "      <td>TN</td>\n",
       "      <td>DS</td>\n",
       "    </tr>\n",
       "    <tr>\n",
       "      <td>5</td>\n",
       "      <td>5d9f7c45060ef7ed5960f9de</td>\n",
       "      <td>The Master</td>\n",
       "      <td>NaN</td>\n",
       "      <td>NaN</td>\n",
       "      <td>NaN</td>\n",
       "      <td>NaN</td>\n",
       "      <td>NaN</td>\n",
       "    </tr>\n",
       "  </tbody>\n",
       "</table>\n",
       "</div>"
      ],
      "text/plain": [
       "                        _id             name   age favorite_instructor  \\\n",
       "0  5d9f7a4e060ef7ed5960f9d9     Andrew Smith  31.0              Rafael   \n",
       "1  5d9f7a92060ef7ed5960f9da   Bryan Jamieson  24.0              Rafael   \n",
       "2  5d9f7ac1060ef7ed5960f9db   Jeffrey Hinkle  44.0              Rafael   \n",
       "3  5d9f7af3060ef7ed5960f9dc          Dr. Who  25.0              Rafael   \n",
       "4  5d9f7b1e060ef7ed5960f9dd  Mathew Menarchy  35.0              Rafael   \n",
       "5  5d9f7c45060ef7ed5960f9de       The Master   NaN                 NaN   \n",
       "\n",
       "  favorite_cartoon state track  \n",
       "0              DBZ    TX    DS  \n",
       "1      Scoobie-Doo    OH    DS  \n",
       "2    Tom and Jerry    GA    DS  \n",
       "3              DBS    GA    DS  \n",
       "4       Animaniacs    TN    DS  \n",
       "5              NaN   NaN   NaN  "
      ]
     },
     "execution_count": 33,
     "metadata": {},
     "output_type": "execute_result"
    }
   ],
   "source": [
    "df = pd.DataFrame(list(students_collection.find({})))\n",
    "df.head(10)"
   ]
  },
  {
   "cell_type": "markdown",
   "metadata": {},
   "source": [
    "### Let's put a dataframe into our mongodb"
   ]
  },
  {
   "cell_type": "code",
   "execution_count": 34,
   "metadata": {},
   "outputs": [
    {
     "data": {
      "text/html": [
       "<div>\n",
       "<style scoped>\n",
       "    .dataframe tbody tr th:only-of-type {\n",
       "        vertical-align: middle;\n",
       "    }\n",
       "\n",
       "    .dataframe tbody tr th {\n",
       "        vertical-align: top;\n",
       "    }\n",
       "\n",
       "    .dataframe thead th {\n",
       "        text-align: right;\n",
       "    }\n",
       "</style>\n",
       "<table border=\"1\" class=\"dataframe\">\n",
       "  <thead>\n",
       "    <tr style=\"text-align: right;\">\n",
       "      <th></th>\n",
       "      <th>CRIM</th>\n",
       "      <th>ZN</th>\n",
       "      <th>INDUS</th>\n",
       "      <th>CHAS</th>\n",
       "      <th>NOX</th>\n",
       "      <th>RM</th>\n",
       "      <th>AGE</th>\n",
       "      <th>DIS</th>\n",
       "      <th>RAD</th>\n",
       "      <th>TAX</th>\n",
       "      <th>PTRATIO</th>\n",
       "      <th>B</th>\n",
       "      <th>LSTAT</th>\n",
       "      <th>target</th>\n",
       "    </tr>\n",
       "  </thead>\n",
       "  <tbody>\n",
       "    <tr>\n",
       "      <td>0</td>\n",
       "      <td>0.00632</td>\n",
       "      <td>18.0</td>\n",
       "      <td>2.31</td>\n",
       "      <td>0.0</td>\n",
       "      <td>0.538</td>\n",
       "      <td>6.575</td>\n",
       "      <td>65.2</td>\n",
       "      <td>4.0900</td>\n",
       "      <td>1.0</td>\n",
       "      <td>296.0</td>\n",
       "      <td>15.3</td>\n",
       "      <td>396.90</td>\n",
       "      <td>4.98</td>\n",
       "      <td>24.0</td>\n",
       "    </tr>\n",
       "    <tr>\n",
       "      <td>1</td>\n",
       "      <td>0.02731</td>\n",
       "      <td>0.0</td>\n",
       "      <td>7.07</td>\n",
       "      <td>0.0</td>\n",
       "      <td>0.469</td>\n",
       "      <td>6.421</td>\n",
       "      <td>78.9</td>\n",
       "      <td>4.9671</td>\n",
       "      <td>2.0</td>\n",
       "      <td>242.0</td>\n",
       "      <td>17.8</td>\n",
       "      <td>396.90</td>\n",
       "      <td>9.14</td>\n",
       "      <td>21.6</td>\n",
       "    </tr>\n",
       "    <tr>\n",
       "      <td>2</td>\n",
       "      <td>0.02729</td>\n",
       "      <td>0.0</td>\n",
       "      <td>7.07</td>\n",
       "      <td>0.0</td>\n",
       "      <td>0.469</td>\n",
       "      <td>7.185</td>\n",
       "      <td>61.1</td>\n",
       "      <td>4.9671</td>\n",
       "      <td>2.0</td>\n",
       "      <td>242.0</td>\n",
       "      <td>17.8</td>\n",
       "      <td>392.83</td>\n",
       "      <td>4.03</td>\n",
       "      <td>34.7</td>\n",
       "    </tr>\n",
       "    <tr>\n",
       "      <td>3</td>\n",
       "      <td>0.03237</td>\n",
       "      <td>0.0</td>\n",
       "      <td>2.18</td>\n",
       "      <td>0.0</td>\n",
       "      <td>0.458</td>\n",
       "      <td>6.998</td>\n",
       "      <td>45.8</td>\n",
       "      <td>6.0622</td>\n",
       "      <td>3.0</td>\n",
       "      <td>222.0</td>\n",
       "      <td>18.7</td>\n",
       "      <td>394.63</td>\n",
       "      <td>2.94</td>\n",
       "      <td>33.4</td>\n",
       "    </tr>\n",
       "    <tr>\n",
       "      <td>4</td>\n",
       "      <td>0.06905</td>\n",
       "      <td>0.0</td>\n",
       "      <td>2.18</td>\n",
       "      <td>0.0</td>\n",
       "      <td>0.458</td>\n",
       "      <td>7.147</td>\n",
       "      <td>54.2</td>\n",
       "      <td>6.0622</td>\n",
       "      <td>3.0</td>\n",
       "      <td>222.0</td>\n",
       "      <td>18.7</td>\n",
       "      <td>396.90</td>\n",
       "      <td>5.33</td>\n",
       "      <td>36.2</td>\n",
       "    </tr>\n",
       "  </tbody>\n",
       "</table>\n",
       "</div>"
      ],
      "text/plain": [
       "      CRIM    ZN  INDUS  CHAS    NOX     RM   AGE     DIS  RAD    TAX  \\\n",
       "0  0.00632  18.0   2.31   0.0  0.538  6.575  65.2  4.0900  1.0  296.0   \n",
       "1  0.02731   0.0   7.07   0.0  0.469  6.421  78.9  4.9671  2.0  242.0   \n",
       "2  0.02729   0.0   7.07   0.0  0.469  7.185  61.1  4.9671  2.0  242.0   \n",
       "3  0.03237   0.0   2.18   0.0  0.458  6.998  45.8  6.0622  3.0  222.0   \n",
       "4  0.06905   0.0   2.18   0.0  0.458  7.147  54.2  6.0622  3.0  222.0   \n",
       "\n",
       "   PTRATIO       B  LSTAT  target  \n",
       "0     15.3  396.90   4.98    24.0  \n",
       "1     17.8  396.90   9.14    21.6  \n",
       "2     17.8  392.83   4.03    34.7  \n",
       "3     18.7  394.63   2.94    33.4  \n",
       "4     18.7  396.90   5.33    36.2  "
      ]
     },
     "execution_count": 34,
     "metadata": {},
     "output_type": "execute_result"
    }
   ],
   "source": [
    "from sklearn.datasets import load_boston\n",
    "boston = load_boston()\n",
    "data = boston.data\n",
    "target = boston.target\n",
    "features = boston.feature_names\n",
    "\n",
    "df = pd.DataFrame(data, columns=features)\n",
    "df['target'] = target\n",
    "df.head()"
   ]
  },
  {
   "cell_type": "code",
   "execution_count": 41,
   "metadata": {},
   "outputs": [
    {
     "data": {
      "text/plain": [
       "((506, 14), 506)"
      ]
     },
     "execution_count": 41,
     "metadata": {},
     "output_type": "execute_result"
    }
   ],
   "source": [
    "boston_collection = new_db['boston']\n",
    "\n",
    "for index, row in df.iterrows():\n",
    "    # now insert every row into our collection\n",
    "    boston_collection.insert_one(dict(row))\n",
    "\n",
    "df.shape, boston_collection.count_documents({})"
   ]
  },
  {
   "cell_type": "code",
   "execution_count": 43,
   "metadata": {},
   "outputs": [
    {
     "data": {
      "text/plain": [
       "1012"
      ]
     },
     "execution_count": 43,
     "metadata": {},
     "output_type": "execute_result"
    }
   ],
   "source": [
    "rows = [dict(row) for i, row in df.iterrows()]\n",
    "\n",
    "boston_collection.insert_many(rows)\n",
    "\n",
    "boston_collection.count_documents({})"
   ]
  },
  {
   "cell_type": "code",
   "execution_count": null,
   "metadata": {},
   "outputs": [],
   "source": []
  },
  {
   "cell_type": "code",
   "execution_count": null,
   "metadata": {},
   "outputs": [],
   "source": []
  },
  {
   "cell_type": "markdown",
   "metadata": {},
   "source": [
    "### Let's make a dataframe and store it as a collection of documents"
   ]
  },
  {
   "cell_type": "markdown",
   "metadata": {},
   "source": [
    "# How can we do this?????......"
   ]
  },
  {
   "cell_type": "markdown",
   "metadata": {},
   "source": [
    "# Let's scrape some ebay images and store in a Mongo DB"
   ]
  },
  {
   "cell_type": "markdown",
   "metadata": {},
   "source": [
    "# Step 1 - Get the images"
   ]
  },
  {
   "cell_type": "code",
   "execution_count": 5,
   "metadata": {},
   "outputs": [],
   "source": [
    "url = \"https://www.ebay.com/sch/i.html?_nkw=funko+pop\""
   ]
  },
  {
   "cell_type": "code",
   "execution_count": 6,
   "metadata": {},
   "outputs": [],
   "source": [
    "req = requests.get(url)"
   ]
  },
  {
   "cell_type": "code",
   "execution_count": 7,
   "metadata": {},
   "outputs": [],
   "source": [
    "soup = BeautifulSoup(req.content, 'html.parser')"
   ]
  },
  {
   "cell_type": "code",
   "execution_count": 8,
   "metadata": {},
   "outputs": [
    {
     "data": {
      "text/plain": [
       "['https://i.ebayimg.com/thumbs/images/g/sfsAAOSwB21c6~bF/s-l225.jpg',\n",
       " 'https://i.ebayimg.com/thumbs/images/g/thYAAOSwARpdArg1/s-l225.jpg',\n",
       " 'https://i.ebayimg.com/thumbs/images/g/RaoAAOSwPYdcbteC/s-l225.jpg',\n",
       " 'https://i.ebayimg.com/thumbs/images/g/JlsAAOSwAYlcsNpc/s-l225.jpg',\n",
       " 'https://i.ebayimg.com/thumbs/images/g/YrMAAOSwZXpc-UBQ/s-l225.jpg',\n",
       " 'https://i.ebayimg.com/thumbs/images/g/4wQAAOSw6GhcdJph/s-l225.jpg',\n",
       " 'https://i.ebayimg.com/thumbs/images/g/0voAAOSwgRpc8EgZ/s-l225.jpg']"
      ]
     },
     "execution_count": 8,
     "metadata": {},
     "output_type": "execute_result"
    }
   ],
   "source": [
    "image_urls = [tag.get('src') for tag in soup.find_all(\"img\", class_=\"s-item__image-img\") if tag.get('src').startswith('https://i.ebayimg.com/')]\n",
    "image_urls"
   ]
  },
  {
   "cell_type": "code",
   "execution_count": 10,
   "metadata": {},
   "outputs": [
    {
     "data": {
      "image/png": "[encoded data removed]",
      "text/plain": [
       "<PIL.JpegImagePlugin.JpegImageFile image mode=RGB size=225x225 at 0x1A2625BF60>"
      ]
     },
     "execution_count": 10,
     "metadata": {},
     "output_type": "execute_result"
    }
   ],
   "source": [
    "r = requests.get(image_urls[0])\n",
    "r.content\n",
    "i = Image.open(BytesIO(r.content))\n",
    "i"
   ]
  },
  {
   "cell_type": "code",
   "execution_count": 12,
   "metadata": {},
   "outputs": [],
   "source": [
    "new_db = client['new_db']"
   ]
  },
  {
   "cell_type": "code",
   "execution_count": 13,
   "metadata": {},
   "outputs": [],
   "source": [
    "funko_coll = new_db['funko']"
   ]
  },
  {
   "cell_type": "code",
   "execution_count": 75,
   "metadata": {},
   "outputs": [
    {
     "data": {
      "text/plain": [
       "<pymongo.results.InsertOneResult at 0x1a218a4b08>"
      ]
     },
     "execution_count": 75,
     "metadata": {},
     "output_type": "execute_result"
    }
   ],
   "source": [
    "funko_coll.insert_one({'image_content': r.content})"
   ]
  },
  {
   "cell_type": "code",
   "execution_count": 14,
   "metadata": {},
   "outputs": [],
   "source": [
    "for url in image_urls:\n",
    "    r = requests.get(url)\n",
    "    r.content\n",
    "    i = Image.open(BytesIO(r.content))\n",
    "    funko_coll.insert_one({'image_content': r.content})"
   ]
  },
  {
   "cell_type": "code",
   "execution_count": 16,
   "metadata": {},
   "outputs": [
    {
     "data": {
      "image/png": "[encoded data removed]",
      "text/plain": [
       "<PIL.JpegImagePlugin.JpegImageFile image mode=RGB size=169x225 at 0x1A2669C630>"
      ]
     },
     "execution_count": 16,
     "metadata": {},
     "output_type": "execute_result"
    }
   ],
   "source": [
    "Image.open(BytesIO(list(funko_coll.find({}, {'image_content'}))[-1]['image_content']))"
   ]
  },
  {
   "cell_type": "code",
   "execution_count": 92,
   "metadata": {},
   "outputs": [],
   "source": [
    "for res in funko_coll.find({}):\n",
    "    img = Image.open(BytesIO(res['image_content']))\n",
    "    img.show()"
   ]
  },
  {
   "cell_type": "code",
   "execution_count": 17,
   "metadata": {},
   "outputs": [],
   "source": [
    "tweets = client['tweets']"
   ]
  },
  {
   "cell_type": "code",
   "execution_count": 19,
   "metadata": {},
   "outputs": [],
   "source": [
    "donald_tweets = tweets[\"donald_tweets\"]"
   ]
  },
  {
   "cell_type": "code",
   "execution_count": 25,
   "metadata": {},
   "outputs": [
    {
     "name": "stdout",
     "output_type": "stream",
     "text": [
      "{'_id': ObjectId('5c8f9c97191c8235fd5613a7'),\n",
      " 'contributors': None,\n",
      " 'coordinates': None,\n",
      " 'created_at': 'Mon Mar 18 13:26:42 +0000 2019',\n",
      " 'entities': {'hashtags': [],\n",
      "              'symbols': [],\n",
      "              'urls': [{'display_url': 'twitter.com/i/web/status/1…',\n",
      "                        'expanded_url': 'https://twitter.com/i/web/status/1107634434432532481',\n",
      "                        'indices': [117, 140],\n",
      "                        'url': 'https://t.co/twRWeJ9rFG'}],\n",
      "              'user_mentions': []},\n",
      " 'extended_tweet': {'display_text_range': [0, 165],\n",
      "                    'entities': {'hashtags': [],\n",
      "                                 'symbols': [],\n",
      "                                 'urls': [],\n",
      "                                 'user_mentions': []},\n",
      "                    'full_text': 'I will have to check my UNFOLLOW group that '\n",
      "                                 \"allows me to see tRUMP's tweets without \"\n",
      "                                 'giving him credit for me or anyone else '\n",
      "                                 'following him if they so choose. I chose!'},\n",
      " 'favorite_count': 0,\n",
      " 'favorited': False,\n",
      " 'filter_level': 'low',\n",
      " 'geo': None,\n",
      " 'id': 1107634434432532481,\n",
      " 'id_str': '1107634434432532481',\n",
      " 'in_reply_to_screen_name': None,\n",
      " 'in_reply_to_status_id': None,\n",
      " 'in_reply_to_status_id_str': None,\n",
      " 'in_reply_to_user_id': None,\n",
      " 'in_reply_to_user_id_str': None,\n",
      " 'is_quote_status': True,\n",
      " 'lang': 'en',\n",
      " 'place': None,\n",
      " 'quote_count': 0,\n",
      " 'quoted_status': {'contributors': None,\n",
      "                   'coordinates': None,\n",
      "                   'created_at': 'Sun Mar 17 18:34:36 +0000 2019',\n",
      "                   'entities': {'hashtags': [],\n",
      "                                'symbols': [],\n",
      "                                'urls': [{'display_url': 'twitter.com/i/web/status/1…',\n",
      "                                          'expanded_url': 'https://twitter.com/i/web/status/1107349530260000774',\n",
      "                                          'indices': [116, 139],\n",
      "                                          'url': 'https://t.co/rGbWdotUtl'}],\n",
      "                                'user_mentions': []},\n",
      "                   'extended_tweet': {'display_text_range': [0, 280],\n",
      "                                      'entities': {'hashtags': [],\n",
      "                                                   'symbols': [],\n",
      "                                                   'urls': [],\n",
      "                                                   'user_mentions': [{'id': 12,\n",
      "                                                                      'id_str': '12',\n",
      "                                                                      'indices': [143,\n",
      "                                                                                  148],\n",
      "                                                                      'name': 'jack',\n",
      "                                                                      'screen_name': 'jack'}]},\n",
      "                                      'full_text': 'I’ve reported all of '\n",
      "                                                   'tRumps tweets on twitter '\n",
      "                                                   'today. He’s becoming more '\n",
      "                                                   'aggressive and hostile. '\n",
      "                                                   'What has to happen to get '\n",
      "                                                   'tRump out of the WH. @jack '\n",
      "                                                   '— why does Twitter '\n",
      "                                                   'continue to allow someone '\n",
      "                                                   'that’s clearly not '\n",
      "                                                   'mentally stable to use '\n",
      "                                                   'Twitter? tRumps account '\n",
      "                                                   'should be suspended.'},\n",
      "                   'favorite_count': 774,\n",
      "                   'favorited': False,\n",
      "                   'filter_level': 'low',\n",
      "                   'geo': None,\n",
      "                   'id': 1107349530260000774,\n",
      "                   'id_str': '1107349530260000774',\n",
      "                   'in_reply_to_screen_name': None,\n",
      "                   'in_reply_to_status_id': None,\n",
      "                   'in_reply_to_status_id_str': None,\n",
      "                   'in_reply_to_user_id': None,\n",
      "                   'in_reply_to_user_id_str': None,\n",
      "                   'is_quote_status': False,\n",
      "                   'lang': 'en',\n",
      "                   'place': None,\n",
      "                   'quote_count': 14,\n",
      "                   'reply_count': 63,\n",
      "                   'retweet_count': 262,\n",
      "                   'retweeted': False,\n",
      "                   'source': '<a href=\"http://twitter.com/download/iphone\" '\n",
      "                             'rel=\"nofollow\">Twitter for iPhone</a>',\n",
      "                   'text': 'I’ve reported all of tRumps tweets on twitter '\n",
      "                           'today. He’s becoming more aggressive and hostile. '\n",
      "                           'What has to happen… https://t.co/rGbWdotUtl',\n",
      "                   'truncated': True,\n",
      "                   'user': {'contributors_enabled': False,\n",
      "                            'created_at': 'Thu Jul 07 12:33:13 +0000 2016',\n",
      "                            'default_profile': False,\n",
      "                            'default_profile_image': False,\n",
      "                            'description': 'Renegade Ex Republican. Now a '\n",
      "                                           '(D).There can be no real peace '\n",
      "                                           'without Justice. And without '\n",
      "                                           '#Resistance there will be no '\n",
      "                                           'Justice. #AlwaysWithHer '\n",
      "                                           '#AlwaysWithStacey',\n",
      "                            'favourites_count': 38995,\n",
      "                            'follow_request_sent': None,\n",
      "                            'followers_count': 33631,\n",
      "                            'following': None,\n",
      "                            'friends_count': 25424,\n",
      "                            'geo_enabled': False,\n",
      "                            'id': 751031312648171520,\n",
      "                            'id_str': '751031312648171520',\n",
      "                            'is_translator': False,\n",
      "                            'lang': 'en',\n",
      "                            'listed_count': 69,\n",
      "                            'location': 'Atlanta, Ga',\n",
      "                            'name': 'Debbie',\n",
      "                            'notifications': None,\n",
      "                            'profile_background_color': '000000',\n",
      "                            'profile_background_image_url': 'http://abs.twimg.com/images/themes/theme1/bg.png',\n",
      "                            'profile_background_image_url_https': 'https://abs.twimg.com/images/themes/theme1/bg.png',\n",
      "                            'profile_background_tile': False,\n",
      "                            'profile_banner_url': 'https://pbs.twimg.com/profile_banners/751031312648171520/1480811561',\n",
      "                            'profile_image_url': 'http://pbs.twimg.com/profile_images/1106681706331942912/uq3WKYpw_normal.jpg',\n",
      "                            'profile_image_url_https': 'https://pbs.twimg.com/profile_images/1106681706331942912/uq3WKYpw_normal.jpg',\n",
      "                            'profile_link_color': 'F58EA8',\n",
      "                            'profile_sidebar_border_color': '000000',\n",
      "                            'profile_sidebar_fill_color': '000000',\n",
      "                            'profile_text_color': '000000',\n",
      "                            'profile_use_background_image': False,\n",
      "                            'protected': False,\n",
      "                            'screen_name': 'Dangchick1',\n",
      "                            'statuses_count': 62249,\n",
      "                            'time_zone': None,\n",
      "                            'translator_type': 'none',\n",
      "                            'url': None,\n",
      "                            'utc_offset': None,\n",
      "                            'verified': False}},\n",
      " 'quoted_status_id': 1107349530260000774,\n",
      " 'quoted_status_id_str': '1107349530260000774',\n",
      " 'quoted_status_permalink': {'display': 'twitter.com/Dangchick1/sta…',\n",
      "                             'expanded': 'https://twitter.com/Dangchick1/status/1107349530260000774',\n",
      "                             'url': 'https://t.co/9NvK3sVAuB'},\n",
      " 'reply_count': 0,\n",
      " 'retweet_count': 0,\n",
      " 'retweeted': False,\n",
      " 'source': '<a href=\"https://mobile.twitter.com\" rel=\"nofollow\">Twitter Web '\n",
      "           'App</a>',\n",
      " 'text': \"I will have to check my UNFOLLOW group that allows me to see tRUMP's \"\n",
      "         'tweets without giving him credit for me or any… '\n",
      "         'https://t.co/twRWeJ9rFG',\n",
      " 'timestamp_ms': '1552915602678',\n",
      " 'truncated': True,\n",
      " 'user': {'contributors_enabled': False,\n",
      "          'created_at': 'Sat Mar 28 00:21:12 +0000 2009',\n",
      "          'default_profile': False,\n",
      "          'default_profile_image': False,\n",
      "          'description': '\"Itinerant\" Army Brat, HAPPILY married mother of 2 '\n",
      "                         'grown children, RN Retired, NOT looking for any '\n",
      "                         'boyfriends, no DMs, lists or any of that other '\n",
      "                         'stuff.',\n",
      "          'favourites_count': 38077,\n",
      "          'follow_request_sent': None,\n",
      "          'followers_count': 1115,\n",
      "          'following': None,\n",
      "          'friends_count': 2798,\n",
      "          'geo_enabled': True,\n",
      "          'id': 27136763,\n",
      "          'id_str': '27136763',\n",
      "          'is_translator': False,\n",
      "          'lang': 'en',\n",
      "          'listed_count': 0,\n",
      "          'location': 'Mississippi, USA',\n",
      "          'name': 'Linda Meylan',\n",
      "          'notifications': None,\n",
      "          'profile_background_color': '2CB85F',\n",
      "          'profile_background_image_url': 'http://abs.twimg.com/images/themes/theme13/bg.gif',\n",
      "          'profile_background_image_url_https': 'https://abs.twimg.com/images/themes/theme13/bg.gif',\n",
      "          'profile_background_tile': True,\n",
      "          'profile_banner_url': 'https://pbs.twimg.com/profile_banners/27136763/1482337602',\n",
      "          'profile_image_url': 'http://pbs.twimg.com/profile_images/1073365044631650305/yDtrbIr9_normal.jpg',\n",
      "          'profile_image_url_https': 'https://pbs.twimg.com/profile_images/1073365044631650305/yDtrbIr9_normal.jpg',\n",
      "          'profile_link_color': '1B95E0',\n",
      "          'profile_sidebar_border_color': 'CC588C',\n",
      "          'profile_sidebar_fill_color': 'E3D16D',\n",
      "          'profile_text_color': '0A2270',\n",
      "          'profile_use_background_image': False,\n",
      "          'protected': False,\n",
      "          'screen_name': 'Lmeylan',\n",
      "          'statuses_count': 11883,\n",
      "          'time_zone': None,\n",
      "          'translator_type': 'none',\n",
      "          'url': None,\n",
      "          'utc_offset': None,\n",
      "          'verified': False}}\n"
     ]
    }
   ],
   "source": [
    "from pprint import pprint\n",
    "for tweet in donald_tweets.find({}):\n",
    "    pprint(tweet)\n",
    "    break"
   ]
  },
  {
   "cell_type": "markdown",
   "metadata": {},
   "source": [
    "### What did we learn today?\n",
    "* the syntax for mongo is a dictionary\n",
    "* you can insert dataframes into mongo using iterrows and casting each row as a dictionary\n",
    "* you can insert anything you want into a mongo collection, even if it's different from the collection\n",
    "* pandas will impose structure on a dictionary list"
   ]
  },
  {
   "cell_type": "code",
   "execution_count": null,
   "metadata": {},
   "outputs": [],
   "source": []
  }
 ],
 "metadata": {
  "kernelspec": {
   "display_name": "Python 3",
   "language": "python",
   "name": "python3"
  },
  "language_info": {
   "codemirror_mode": {
    "name": "ipython",
    "version": 3
   },
   "file_extension": ".py",
   "mimetype": "text/x-python",
   "name": "python",
   "nbconvert_exporter": "python",
   "pygments_lexer": "ipython3",
   "version": "3.6.0"
  }
 },
 "nbformat": 4,
 "nbformat_minor": 2
}
